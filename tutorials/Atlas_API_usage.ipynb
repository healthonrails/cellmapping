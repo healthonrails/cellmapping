{
  "cells": [
    {
      "cell_type": "markdown",
      "metadata": {
        "id": "IAYbC_RE94tP"
      },
      "source": [
        "# Introduction to the `BrainGlobeAtlas` class\n",
        "\n",
        "This notebook is modified from this one https://github.com/brainglobe/bg-atlasapi/blob/master/tutorials/Atlas%20API%20usage.ipynb."
      ]
    },
    {
      "cell_type": "markdown",
      "source": [
        "# Install required packages"
      ],
      "metadata": {
        "id": "hKHbUc8nbubs"
      }
    },
    {
      "cell_type": "code",
      "source": [
        "!pip install bg-atlasapi"
      ],
      "metadata": {
        "id": "RYcZh7QK-IMu"
      },
      "execution_count": null,
      "outputs": []
    },
    {
      "cell_type": "code",
      "source": [
        "!pip install itk itkwidgets ipywidgets"
      ],
      "metadata": {
        "id": "_1PhJDUsXAIo"
      },
      "execution_count": null,
      "outputs": []
    },
    {
      "cell_type": "code",
      "source": [
        "import itk\n",
        "import itkwidgets\n",
        "from ipywidgets import interact, interactive, IntSlider, ToggleButtons"
      ],
      "metadata": {
        "id": "V4hUZTWMXq2P"
      },
      "execution_count": 112,
      "outputs": []
    },
    {
      "cell_type": "markdown",
      "metadata": {
        "id": "9NcEJ9mK94tR"
      },
      "source": [
        "## 0. Creating a `BrainGlobeAtlas` object and list availabe options"
      ]
    },
    {
      "cell_type": "markdown",
      "metadata": {
        "id": "v1PMGEiX94tS"
      },
      "source": [
        "To instantiate a `BrainGlobeAtlas` object, we need to instantiate it with the atlas name. The first time we use it, a version of this atlas files will be downloaded from the [remote GIN repository](http://gin.g-node.org/brainglobe/atlases) and stored on your local machine (by default, in .../Users/username/.brainglobe):"
      ]
    },
    {
      "cell_type": "code",
      "execution_count": 3,
      "metadata": {
        "id": "b-ABfwBs94tS",
        "outputId": "e27f1856-c67c-4a71-adae-19ef2c82f6fa",
        "colab": {
          "base_uri": "https://localhost:8080/",
          "height": 49,
          "referenced_widgets": [
            "5a69e957ac21401fa0388d9948798ab5",
            "a92b2a9334d949d2aa7510ae7d83ee3f"
          ]
        }
      },
      "outputs": [
        {
          "output_type": "display_data",
          "data": {
            "text/plain": [
              "\u001b[38;5;200mBgatlas_api: allen_mouse_100um not found locally. Downloading\u001b[0m\u001b[38;5;200m...\u001b[0m\n"
            ],
            "text/html": [
              "<pre style=\"white-space:pre;overflow-x:auto;line-height:normal;font-family:Menlo,'DejaVu Sans Mono',consolas,'Courier New',monospace\"><span style=\"color: #ff00d7; text-decoration-color: #ff00d7\">Bgatlas_api: allen_mouse_100um not found locally. Downloading...</span>\n",
              "</pre>\n"
            ]
          },
          "metadata": {}
        },
        {
          "output_type": "display_data",
          "data": {
            "text/plain": [
              "Output()"
            ],
            "application/vnd.jupyter.widget-view+json": {
              "version_major": 2,
              "version_minor": 0,
              "model_id": "5a69e957ac21401fa0388d9948798ab5"
            }
          },
          "metadata": {}
        },
        {
          "output_type": "display_data",
          "data": {
            "text/plain": [],
            "text/html": [
              "<pre style=\"white-space:pre;overflow-x:auto;line-height:normal;font-family:Menlo,'DejaVu Sans Mono',consolas,'Courier New',monospace\"></pre>\n"
            ]
          },
          "metadata": {}
        },
        {
          "output_type": "display_data",
          "data": {
            "text/plain": [
              "\n"
            ],
            "text/html": [
              "<pre style=\"white-space:pre;overflow-x:auto;line-height:normal;font-family:Menlo,'DejaVu Sans Mono',consolas,'Courier New',monospace\">\n",
              "</pre>\n"
            ]
          },
          "metadata": {}
        }
      ],
      "source": [
        "import numpy as np\n",
        "from bg_atlasapi import BrainGlobeAtlas\n",
        "from pprint import pprint\n",
        "\n",
        "bg_atlas = BrainGlobeAtlas(\"allen_mouse_100um\", check_latest=False)"
      ]
    },
    {
      "cell_type": "markdown",
      "metadata": {
        "id": "s9dpxKx694tU"
      },
      "source": [
        "To know what atlases are available through BrainGlobe, we can use the `show_atlases` function (we need to be online):"
      ]
    },
    {
      "cell_type": "code",
      "execution_count": 4,
      "metadata": {
        "id": "assEk_Zt94tU",
        "outputId": "7e25eb1f-d737-4706-eda8-b8e93a2812ab",
        "colab": {
          "base_uri": "https://localhost:8080/",
          "height": 529
        }
      },
      "outputs": [
        {
          "output_type": "display_data",
          "data": {
            "text/plain": [
              "╭───────────────────────────────── Brainglobe Atlases ─────────────────────────────────╮\n",
              "│ \u001b[1;32m                                  \u001b[0m\u001b[1;32m            \u001b[0m\u001b[1;32m         \u001b[0m\u001b[1;32m               \u001b[0m\u001b[1;32m \u001b[0m\u001b[1;32m   Latest   \u001b[0m\u001b[1;32m \u001b[0m │\n",
              "│ \u001b[1;32m \u001b[0m\u001b[1;32mName                            \u001b[0m\u001b[1;32m \u001b[0m\u001b[1;32m \u001b[0m\u001b[1;32mDownloaded\u001b[0m\u001b[1;32m \u001b[0m\u001b[1;32m \u001b[0m\u001b[1;32mUpdated\u001b[0m\u001b[1;32m \u001b[0m\u001b[1;32m \u001b[0m\u001b[1;32mLocal version\u001b[0m\u001b[1;32m \u001b[0m\u001b[1;32m \u001b[0m\u001b[1;32m  version   \u001b[0m\u001b[1;32m \u001b[0m │\n",
              "│  \u001b[1mallen_mouse_100um\u001b[0m                     \u001b[32m✔\u001b[0m          \u001b[32m✔\u001b[0m          \u001b[38;2;196;196;196m1.2\u001b[0m           \u001b[38;2;196;196;196m1.2\u001b[0m       │\n",
              "│  \u001b[1mexample_mouse_100um\u001b[0m                                                       \u001b[38;2;196;196;196m1.2\u001b[0m       │\n",
              "│  \u001b[1mallen_mouse_10um\u001b[0m                                                          \u001b[38;2;196;196;196m1.2\u001b[0m       │\n",
              "│  \u001b[1mallen_mouse_25um\u001b[0m                                                          \u001b[38;2;196;196;196m1.2\u001b[0m       │\n",
              "│  \u001b[1mallen_mouse_50um\u001b[0m                                                          \u001b[38;2;196;196;196m1.2\u001b[0m       │\n",
              "│  \u001b[1mmpin_zfish_1um\u001b[0m                                                            \u001b[38;2;196;196;196m1.0\u001b[0m       │\n",
              "│  \u001b[1mallen_human_500um\u001b[0m                                                         \u001b[38;2;196;196;196m0.1\u001b[0m       │\n",
              "│  \u001b[1mkim_mouse_10um\u001b[0m                                                            \u001b[38;2;196;196;196m1.0\u001b[0m       │\n",
              "│  \u001b[1mkim_mouse_25um\u001b[0m                                                            \u001b[38;2;196;196;196m1.0\u001b[0m       │\n",
              "│  \u001b[1mkim_mouse_50um\u001b[0m                                                            \u001b[38;2;196;196;196m1.0\u001b[0m       │\n",
              "│  \u001b[1mkim_mouse_100um\u001b[0m                                                           \u001b[38;2;196;196;196m1.0\u001b[0m       │\n",
              "│  \u001b[1mosten_mouse_10um\u001b[0m                                                          \u001b[38;2;196;196;196m1.1\u001b[0m       │\n",
              "│  \u001b[1mosten_mouse_25um\u001b[0m                                                          \u001b[38;2;196;196;196m1.1\u001b[0m       │\n",
              "│  \u001b[1mosten_mouse_50um\u001b[0m                                                          \u001b[38;2;196;196;196m1.1\u001b[0m       │\n",
              "│  \u001b[1mosten_mouse_100um\u001b[0m                                                         \u001b[38;2;196;196;196m1.1\u001b[0m       │\n",
              "│  \u001b[1mallen_cord_20um\u001b[0m                                                           \u001b[38;2;196;196;196m1.0\u001b[0m       │\n",
              "│  \u001b[1mazba_zfish_4um\u001b[0m                                                            \u001b[38;2;196;196;196m1.1\u001b[0m       │\n",
              "│  \u001b[1mwhs_sd_rat_39um\u001b[0m                                                           \u001b[38;2;196;196;196m1.0\u001b[0m       │\n",
              "│  \u001b[1mperens_lsfm_mouse_20um\u001b[0m                                                    \u001b[38;2;196;196;196m1.0\u001b[0m       │\n",
              "│  \u001b[1madmba_3d_e11_5_mouse_16um\u001b[0m                                                 \u001b[38;2;196;196;196m1.0\u001b[0m       │\n",
              "│  \u001b[1madmba_3d_e13_5_mouse_16um\u001b[0m                                                 \u001b[38;2;196;196;196m1.0\u001b[0m       │\n",
              "│  \u001b[1madmba_3d_e15_5_mouse_16um\u001b[0m                                                 \u001b[38;2;196;196;196m1.0\u001b[0m       │\n",
              "│  \u001b[1madmba_3d_e18_5_mouse_16um\u001b[0m                                                 \u001b[38;2;196;196;196m1.0\u001b[0m       │\n",
              "│  \u001b[1madmba_3d_p4_mouse_16.752um\u001b[0m                                                \u001b[38;2;196;196;196m1.0\u001b[0m       │\n",
              "│  \u001b[1madmba_3d_p14_mouse_16.752um\u001b[0m                                               \u001b[38;2;196;196;196m1.0\u001b[0m       │\n",
              "│  \u001b[1madmba_3d_p28_mouse_16.752um\u001b[0m                                               \u001b[38;2;196;196;196m1.0\u001b[0m       │\n",
              "│  \u001b[1madmba_3d_p56_mouse_25um\u001b[0m                                                   \u001b[38;2;196;196;196m1.0\u001b[0m       │\n",
              "│  \u001b[1mprinceton_mouse_20um\u001b[0m                                                      \u001b[38;2;196;196;196m1.0\u001b[0m       │\n",
              "╰──────────────────────────────────────────────────────────────────────────────────────╯\n"
            ],
            "text/html": [
              "<pre style=\"white-space:pre;overflow-x:auto;line-height:normal;font-family:Menlo,'DejaVu Sans Mono',consolas,'Courier New',monospace\">╭───────────────────────────────── Brainglobe Atlases ─────────────────────────────────╮\n",
              "│ <span style=\"color: #008000; text-decoration-color: #008000; font-weight: bold\">                                                                          Latest    </span> │\n",
              "│ <span style=\"color: #008000; text-decoration-color: #008000; font-weight: bold\"> Name                              Downloaded  Updated  Local version    version    </span> │\n",
              "│  <span style=\"font-weight: bold\">allen_mouse_100um</span>                     <span style=\"color: #008000; text-decoration-color: #008000\">✔</span>          <span style=\"color: #008000; text-decoration-color: #008000\">✔</span>          <span style=\"color: #c4c4c4; text-decoration-color: #c4c4c4\">1.2</span>           <span style=\"color: #c4c4c4; text-decoration-color: #c4c4c4\">1.2</span>       │\n",
              "│  <span style=\"font-weight: bold\">example_mouse_100um</span>                                                       <span style=\"color: #c4c4c4; text-decoration-color: #c4c4c4\">1.2</span>       │\n",
              "│  <span style=\"font-weight: bold\">allen_mouse_10um</span>                                                          <span style=\"color: #c4c4c4; text-decoration-color: #c4c4c4\">1.2</span>       │\n",
              "│  <span style=\"font-weight: bold\">allen_mouse_25um</span>                                                          <span style=\"color: #c4c4c4; text-decoration-color: #c4c4c4\">1.2</span>       │\n",
              "│  <span style=\"font-weight: bold\">allen_mouse_50um</span>                                                          <span style=\"color: #c4c4c4; text-decoration-color: #c4c4c4\">1.2</span>       │\n",
              "│  <span style=\"font-weight: bold\">mpin_zfish_1um</span>                                                            <span style=\"color: #c4c4c4; text-decoration-color: #c4c4c4\">1.0</span>       │\n",
              "│  <span style=\"font-weight: bold\">allen_human_500um</span>                                                         <span style=\"color: #c4c4c4; text-decoration-color: #c4c4c4\">0.1</span>       │\n",
              "│  <span style=\"font-weight: bold\">kim_mouse_10um</span>                                                            <span style=\"color: #c4c4c4; text-decoration-color: #c4c4c4\">1.0</span>       │\n",
              "│  <span style=\"font-weight: bold\">kim_mouse_25um</span>                                                            <span style=\"color: #c4c4c4; text-decoration-color: #c4c4c4\">1.0</span>       │\n",
              "│  <span style=\"font-weight: bold\">kim_mouse_50um</span>                                                            <span style=\"color: #c4c4c4; text-decoration-color: #c4c4c4\">1.0</span>       │\n",
              "│  <span style=\"font-weight: bold\">kim_mouse_100um</span>                                                           <span style=\"color: #c4c4c4; text-decoration-color: #c4c4c4\">1.0</span>       │\n",
              "│  <span style=\"font-weight: bold\">osten_mouse_10um</span>                                                          <span style=\"color: #c4c4c4; text-decoration-color: #c4c4c4\">1.1</span>       │\n",
              "│  <span style=\"font-weight: bold\">osten_mouse_25um</span>                                                          <span style=\"color: #c4c4c4; text-decoration-color: #c4c4c4\">1.1</span>       │\n",
              "│  <span style=\"font-weight: bold\">osten_mouse_50um</span>                                                          <span style=\"color: #c4c4c4; text-decoration-color: #c4c4c4\">1.1</span>       │\n",
              "│  <span style=\"font-weight: bold\">osten_mouse_100um</span>                                                         <span style=\"color: #c4c4c4; text-decoration-color: #c4c4c4\">1.1</span>       │\n",
              "│  <span style=\"font-weight: bold\">allen_cord_20um</span>                                                           <span style=\"color: #c4c4c4; text-decoration-color: #c4c4c4\">1.0</span>       │\n",
              "│  <span style=\"font-weight: bold\">azba_zfish_4um</span>                                                            <span style=\"color: #c4c4c4; text-decoration-color: #c4c4c4\">1.1</span>       │\n",
              "│  <span style=\"font-weight: bold\">whs_sd_rat_39um</span>                                                           <span style=\"color: #c4c4c4; text-decoration-color: #c4c4c4\">1.0</span>       │\n",
              "│  <span style=\"font-weight: bold\">perens_lsfm_mouse_20um</span>                                                    <span style=\"color: #c4c4c4; text-decoration-color: #c4c4c4\">1.0</span>       │\n",
              "│  <span style=\"font-weight: bold\">admba_3d_e11_5_mouse_16um</span>                                                 <span style=\"color: #c4c4c4; text-decoration-color: #c4c4c4\">1.0</span>       │\n",
              "│  <span style=\"font-weight: bold\">admba_3d_e13_5_mouse_16um</span>                                                 <span style=\"color: #c4c4c4; text-decoration-color: #c4c4c4\">1.0</span>       │\n",
              "│  <span style=\"font-weight: bold\">admba_3d_e15_5_mouse_16um</span>                                                 <span style=\"color: #c4c4c4; text-decoration-color: #c4c4c4\">1.0</span>       │\n",
              "│  <span style=\"font-weight: bold\">admba_3d_e18_5_mouse_16um</span>                                                 <span style=\"color: #c4c4c4; text-decoration-color: #c4c4c4\">1.0</span>       │\n",
              "│  <span style=\"font-weight: bold\">admba_3d_p4_mouse_16.752um</span>                                                <span style=\"color: #c4c4c4; text-decoration-color: #c4c4c4\">1.0</span>       │\n",
              "│  <span style=\"font-weight: bold\">admba_3d_p14_mouse_16.752um</span>                                               <span style=\"color: #c4c4c4; text-decoration-color: #c4c4c4\">1.0</span>       │\n",
              "│  <span style=\"font-weight: bold\">admba_3d_p28_mouse_16.752um</span>                                               <span style=\"color: #c4c4c4; text-decoration-color: #c4c4c4\">1.0</span>       │\n",
              "│  <span style=\"font-weight: bold\">admba_3d_p56_mouse_25um</span>                                                   <span style=\"color: #c4c4c4; text-decoration-color: #c4c4c4\">1.0</span>       │\n",
              "│  <span style=\"font-weight: bold\">princeton_mouse_20um</span>                                                      <span style=\"color: #c4c4c4; text-decoration-color: #c4c4c4\">1.0</span>       │\n",
              "╰──────────────────────────────────────────────────────────────────────────────────────╯\n",
              "</pre>\n"
            ]
          },
          "metadata": {}
        }
      ],
      "source": [
        "from bg_atlasapi import show_atlases\n",
        "show_atlases()"
      ]
    },
    {
      "cell_type": "markdown",
      "metadata": {
        "id": "APhybkv094tV"
      },
      "source": [
        "## 1. Using a `BrainGlobe` atlas"
      ]
    },
    {
      "cell_type": "markdown",
      "metadata": {
        "id": "--mvF3mt94tV"
      },
      "source": [
        "A BrainGlobe atlas is a convenient API for interacting with an anatomical atlas. BrainGlobe atlases contain:\n",
        " * Metadata\n",
        " * The reference anatomical stack used for the registration itself\n",
        " * Region annotation stack (the segmented atlas image that occupies the same space as the reference stack)\n",
        " * Hemisphere annotation stack which denotes left and right\n",
        " * Description of the region hierarchy\n",
        " * Meshes for the regions"
      ]
    },
    {
      "cell_type": "markdown",
      "metadata": {
        "id": "_CmAQP6d94tW"
      },
      "source": [
        "### 1.0 Metadata"
      ]
    },
    {
      "cell_type": "markdown",
      "metadata": {
        "id": "sBid-zGP94tW"
      },
      "source": [
        "All atlases have a standard set of medatata describing their source, species, resolution, etc:"
      ]
    },
    {
      "cell_type": "code",
      "execution_count": 5,
      "metadata": {
        "id": "Af07PRpy94tX",
        "outputId": "8ff0b77d-1df7-414a-a59e-fea021d25c73",
        "colab": {
          "base_uri": "https://localhost:8080/"
        }
      },
      "outputs": [
        {
          "output_type": "execute_result",
          "data": {
            "text/plain": [
              "{'name': 'allen_mouse',\n",
              " 'citation': 'Wang et al 2020, https://doi.org/10.1016/j.cell.2020.04.007',\n",
              " 'atlas_link': 'http://www.brain-map.org',\n",
              " 'species': 'Mus musculus',\n",
              " 'symmetric': True,\n",
              " 'resolution': [100.0, 100.0, 100.0],\n",
              " 'orientation': 'asr',\n",
              " 'version': '1.2',\n",
              " 'shape': [132, 80, 114],\n",
              " 'trasform_to_bg': [[1.0, 0.0, 0.0, 0.0],\n",
              "  [0.0, 1.0, 0.0, 0.0],\n",
              "  [0.0, 0.0, 1.0, 0.0],\n",
              "  [0.0, 0.0, 0.0, 1.0]],\n",
              " 'additional_references': []}"
            ]
          },
          "metadata": {},
          "execution_count": 5
        }
      ],
      "source": [
        "bg_atlas.metadata"
      ]
    },
    {
      "cell_type": "markdown",
      "metadata": {
        "id": "60PFBsLI94tX"
      },
      "source": [
        "### 1.1 Anatomical, annotation and hemispheres stack"
      ]
    },
    {
      "cell_type": "code",
      "execution_count": 6,
      "metadata": {
        "id": "z6yhjTlZ94tY"
      },
      "outputs": [],
      "source": [
        "from matplotlib import pyplot as plt"
      ]
    },
    {
      "cell_type": "markdown",
      "metadata": {
        "id": "lPomSIGT94tY"
      },
      "source": [
        "Anatomical reference:"
      ]
    },
    {
      "cell_type": "code",
      "execution_count": 71,
      "metadata": {
        "id": "sRK7ulMY94tZ",
        "outputId": "302a67f1-b5f9-41c3-e15f-4915647dbcc2",
        "colab": {
          "base_uri": "https://localhost:8080/",
          "height": 241
        }
      },
      "outputs": [
        {
          "output_type": "display_data",
          "data": {
            "text/plain": [
              "<Figure size 864x216 with 3 Axes>"
            ],
            "image/png": "[encoded data removed]"
          },
          "metadata": {
            "needs_background": "light"
          }
        }
      ],
      "source": [
        "space = bg_atlas.space\n",
        "stack = bg_atlas.reference\n",
        "\n",
        "f, axs = plt.subplots(1,3, figsize=(12, 3))\n",
        "for i, (plane, labels) in enumerate(zip(space.sections, space.axis_labels)):\n",
        "    mid_index = stack.shape[i]//2\n",
        "    axs[i].imshow(np.moveaxis(stack,i,0)[mid_index,:,:], cmap=\"gray\",clim=(0,250))\n",
        "    axs[i].set_title(f\"{plane.capitalize()} view\")\n",
        "    axs[i].set_ylabel(labels[0])\n",
        "    axs[i].set_xlabel(labels[1])"
      ]
    },
    {
      "cell_type": "markdown",
      "metadata": {
        "id": "e6gjcFn_94tZ"
      },
      "source": [
        "Annotations stack:"
      ]
    },
    {
      "cell_type": "code",
      "execution_count": 52,
      "metadata": {
        "id": "R-owxgRT94tZ",
        "outputId": "b5e63c46-eb59-4b3e-be6a-69368c3564b1",
        "colab": {
          "base_uri": "https://localhost:8080/",
          "height": 241
        }
      },
      "outputs": [
        {
          "output_type": "display_data",
          "data": {
            "text/plain": [
              "<Figure size 864x216 with 3 Axes>"
            ],
            "image/png": "[encoded data removed]"
          },
          "metadata": {
            "needs_background": "light"
          }
        }
      ],
      "source": [
        "space = bg_atlas.space\n",
        "stack = bg_atlas.annotation\n",
        "\n",
        "f, axs = plt.subplots(1,3, figsize=(12, 3))\n",
        "for i, (plane, labels) in enumerate(zip(space.sections, space.axis_labels)):\n",
        "    mid_index = stack.shape[i]//2\n",
        "    axs[i].imshow(np.moveaxis(stack,i,0)[mid_index,:,:], cmap=\"gray\",clim=(0,1250))\n",
        "    axs[i].set_title(f\"{plane.capitalize()} view\")\n",
        "    axs[i].set_ylabel(labels[0])\n",
        "    axs[i].set_xlabel(labels[1])\n"
      ]
    },
    {
      "cell_type": "markdown",
      "source": [
        "# Sagittal view"
      ],
      "metadata": {
        "id": "ifjY5TGXcXgA"
      }
    },
    {
      "cell_type": "code",
      "source": [
        "sag = np.moveaxis(stack, 2, 0)"
      ],
      "metadata": {
        "id": "UWByoNg4VOhi"
      },
      "execution_count": 95,
      "outputs": []
    },
    {
      "cell_type": "code",
      "source": [
        "def explore_3dimage(layer):\n",
        "    plt.figure(figsize=(10, 5))\n",
        "    channel = 2\n",
        "    plt.imshow(np.fliplr(sag[layer,:, :]), cmap='gray');\n",
        "    plt.title('Explore Layers of Mouse atlas', fontsize=20)\n",
        "    plt.axis('off')\n",
        "    return layer\n",
        "interact(explore_3dimage, layer=(0, sag.shape[0] - 1));"
      ],
      "metadata": {
        "id": "hNVZQPbOXbU8",
        "outputId": "833f3d45-7954-483c-a1bb-1b53222a8da8",
        "colab": {
          "base_uri": "https://localhost:8080/",
          "height": 373,
          "referenced_widgets": [
            "1d37718dcefe438eb379d940455f55f6",
            "b1f50d12dc2144458c02b4b977a960c4",
            "bc2149c9fc7b466d858c5e637cc6efb3",
            "e19666320adf4aa3a84c7e0f65f0b2d9",
            "45ca2273077a4d1e9e678d1ff57d1edb",
            "66a4b0b525674a5f8ebe7af2bf77d89a",
            "a0df9f742f074142ae990bbd745c7da1"
          ]
        }
      },
      "execution_count": 117,
      "outputs": [
        {
          "output_type": "display_data",
          "data": {
            "text/plain": [
              "interactive(children=(IntSlider(value=56, description='layer', max=113), Output()), _dom_classes=('widget-inte…"
            ],
            "application/vnd.jupyter.widget-view+json": {
              "version_major": 2,
              "version_minor": 0,
              "model_id": "1d37718dcefe438eb379d940455f55f6"
            }
          },
          "metadata": {}
        }
      ]
    },
    {
      "cell_type": "code",
      "execution_count": 87,
      "metadata": {
        "id": "Jvliejks94ta",
        "outputId": "212b5a2b-07a7-4e00-feae-410045bcf414",
        "colab": {
          "base_uri": "https://localhost:8080/",
          "height": 241
        }
      },
      "outputs": [
        {
          "output_type": "display_data",
          "data": {
            "text/plain": [
              "<Figure size 864x216 with 3 Axes>"
            ],
            "image/png": "[encoded data removed]"
          },
          "metadata": {
            "needs_background": "light"
          }
        }
      ],
      "source": [
        "space = bg_atlas.space\n",
        "stack_ = bg_atlas.hemispheres\n",
        "stack_ = stack_ - 1\n",
        "f, axs = plt.subplots(1,3, figsize=(12, 3))\n",
        "for i, (plane, labels) in enumerate(zip(space.sections, space.axis_labels)):\n",
        "    mid_index = stack.shape[i]//2\n",
        "    axs[i].imshow(np.moveaxis(stack * stack_,i,0)[mid_index,:,:], cmap=\"gray\",clim=(0,250))\n",
        "    #axs[i].imshow(stack[i], cmap=\"gray\")\n",
        "    axs[i].set_title(f\"{plane.capitalize()} view\")\n",
        "    axs[i].set_ylabel(labels[0])\n",
        "    axs[i].set_xlabel(labels[1])"
      ]
    },
    {
      "cell_type": "markdown",
      "metadata": {
        "id": "WTLwwJkC94ta"
      },
      "source": [
        "### 1.2 Regions hierarchy"
      ]
    },
    {
      "cell_type": "markdown",
      "metadata": {
        "id": "n4o-1Ym894tg"
      },
      "source": [
        "The atlas comes with the description of a hierarchy of brain structures. To have an overview:"
      ]
    },
    {
      "cell_type": "code",
      "execution_count": 10,
      "metadata": {
        "id": "Efc1lMry94th",
        "outputId": "27f3d706-7f1c-420f-9809-034022ffee6e",
        "colab": {
          "base_uri": "https://localhost:8080/"
        }
      },
      "outputs": [
        {
          "output_type": "execute_result",
          "data": {
            "text/plain": [
              "root (997)\n",
              "├── VS (73)\n",
              "│   ├── AQ (140)\n",
              "│   ├── V3 (129)\n",
              "│   ├── V4 (145)\n",
              "│   │   └── V4r (153)\n",
              "│   ├── VL (81)\n",
              "│   │   ├── SEZ (98)\n",
              "│   │   └── chpl (108)\n",
              "│   └── c (164)\n",
              "├── fiber tracts (1009)\n",
              "│   ├── cbf (960)\n",
              "│   │   ├── arb (728)\n",
              "│   │   ├── cbc (744)\n",
              "│   │   └── cbp (752)\n",
              "│   │       ├── icp (1123)\n",
              "│   │       │   └── sctd (553)\n",
              "│   │       ├── mcp (78)\n",
              "│   │       └── scp (326)\n",
              "│   │           ├── dscp (812)\n",
              "│   │           ├── sctv (866)\n",
              "│   │           └── uf (850)\n",
              "│   ├── cm (967)\n",
              "│   │   ├── IIIn (832)\n",
              "│   │   │   ├── mlf (62)\n",
              "│   │   │   └── pc (158)\n",
              "│   │   ├── IIn (848)\n",
              "│   │   │   ├── bsc (916)\n",
              "│   │   │   ├── csc (336)\n",
              "│   │   │   ├── och (117)\n",
              "│   │   │   └── opt (125)\n",
              "│   │   ├── IVn (911)\n",
              "│   │   ├── In (840)\n",
              "│   │   │   ├── aco (900)\n",
              "│   │   │   ├── lotg (21)\n",
              "│   │   │   │   ├── lot (665)\n",
              "│   │   │   │   └── lotd (538)\n",
              "│   │   │   └── onl (1016)\n",
              "│   │   ├── VIIIn (933)\n",
              "│   │   │   ├── cVIIIn (948)\n",
              "│   │   │   │   ├── bic (482)\n",
              "│   │   │   │   ├── cic (633)\n",
              "│   │   │   │   ├── das (506)\n",
              "│   │   │   │   ├── ll (658)\n",
              "│   │   │   │   └── tb (841)\n",
              "│   │   │   └── vVIIIn (413)\n",
              "│   │   ├── VIIn (798)\n",
              "│   │   │   └── gVIIn (1116)\n",
              "│   │   ├── Vn (901)\n",
              "│   │   │   ├── moV (93)\n",
              "│   │   │   └── sV (229)\n",
              "│   │   │       └── sptV (794)\n",
              "│   │   ├── Xn (917)\n",
              "│   │   │   └── ts (237)\n",
              "│   │   ├── drt (792)\n",
              "│   │   │   └── cett (932)\n",
              "│   │   │       ├── dc (514)\n",
              "│   │   │       │   └── cuf (380)\n",
              "│   │   │       └── ml (697)\n",
              "│   │   └── von (949)\n",
              "│   ├── eps (1000)\n",
              "│   │   ├── epsc (760)\n",
              "│   │   │   └── nst (102)\n",
              "│   │   ├── rust (863)\n",
              "│   │   │   └── vtd (397)\n",
              "│   │   └── tsp (877)\n",
              "│   │       ├── dtd (1060)\n",
              "│   │       ├── tspc (1043)\n",
              "│   │       └── tspd (1051)\n",
              "│   ├── lfbs (983)\n",
              "│   │   ├── cc (776)\n",
              "│   │   │   ├── ccb (484682516)\n",
              "│   │   │   ├── ccg (1108)\n",
              "│   │   │   ├── ccs (986)\n",
              "│   │   │   ├── ee (964)\n",
              "│   │   │   ├── fa (956)\n",
              "│   │   │   │   └── ec (579)\n",
              "│   │   │   └── fp (971)\n",
              "│   │   ├── cst (784)\n",
              "│   │   │   ├── cpd (924)\n",
              "│   │   │   ├── int (6)\n",
              "│   │   │   ├── py (190)\n",
              "│   │   │   └── pyd (198)\n",
              "│   │   └── lfbst (896)\n",
              "│   │       ├── ar (484682524)\n",
              "│   │       ├── em (1092)\n",
              "│   │       └── or (484682520)\n",
              "│   ├── mfbs (991)\n",
              "│   │   ├── mfbc (768)\n",
              "│   │   │   ├── act (908)\n",
              "│   │   │   ├── amc (884)\n",
              "│   │   │   ├── cing (940)\n",
              "│   │   │   ├── fxs (1099)\n",
              "│   │   │   │   ├── alv (466)\n",
              "│   │   │   │   ├── df (530)\n",
              "│   │   │   │   ├── fi (603)\n",
              "│   │   │   │   ├── fxpo (737)\n",
              "│   │   │   │   │   ├── fx (436)\n",
              "│   │   │   │   │   └── mct (428)\n",
              "│   │   │   │   └── hc (618)\n",
              "│   │   │   │       ├── dhc (443)\n",
              "│   │   │   │       └── vhc (449)\n",
              "│   │   │   └── st (301)\n",
              "│   │   │       └── stc (484682528)\n",
              "│   │   └── mfsbshy (824)\n",
              "│   │       ├── mfb (54)\n",
              "│   │       ├── mfbse (1083)\n",
              "│   │       │   ├── fr (595)\n",
              "│   │       │   ├── hbc (611)\n",
              "│   │       │   └── sm (802)\n",
              "│   │       ├── mfbsma (46)\n",
              "│   │       │   ├── mp (673)\n",
              "│   │       │   ├── mtg (681)\n",
              "│   │       │   ├── mtt (690)\n",
              "│   │       │   └── pm (753)\n",
              "│   │       └── sup (349)\n",
              "│   └── scwm (484682512)\n",
              "└── grey (8)\n",
              "    ├── BS (343)\n",
              "    │   ├── HB (1065)\n",
              "    │   │   ├── MY (354)\n",
              "    │   │   │   ├── MY-mot (370)\n",
              "    │   │   │   │   ├── ACVII (576)\n",
              "    │   │   │   │   ├── AMB (135)\n",
              "    │   │   │   │   │   ├── AMBd (939)\n",
              "    │   │   │   │   │   └── AMBv (143)\n",
              "    │   │   │   │   ├── DMX (839)\n",
              "    │   │   │   │   ├── GRN (1048)\n",
              "    │   │   │   │   ├── ICB (372)\n",
              "    │   │   │   │   ├── IO (83)\n",
              "    │   │   │   │   ├── IRN (136)\n",
              "    │   │   │   │   ├── ISN (106)\n",
              "    │   │   │   │   ├── LIN (203)\n",
              "    │   │   │   │   ├── LRN (235)\n",
              "    │   │   │   │   │   ├── LRNm (955)\n",
              "    │   │   │   │   │   └── LRNp (963)\n",
              "    │   │   │   │   ├── MARN (307)\n",
              "    │   │   │   │   ├── MDRN (395)\n",
              "    │   │   │   │   │   ├── MDRNd (1098)\n",
              "    │   │   │   │   │   └── MDRNv (1107)\n",
              "    │   │   │   │   ├── PARN (852)\n",
              "    │   │   │   │   ├── PAS (859)\n",
              "    │   │   │   │   ├── PGRN (938)\n",
              "    │   │   │   │   │   ├── PGRNd (970)\n",
              "    │   │   │   │   │   └── PGRNl (978)\n",
              "    │   │   │   │   ├── PHY (154)\n",
              "    │   │   │   │   │   ├── NR (177)\n",
              "    │   │   │   │   │   └── PRP (169)\n",
              "    │   │   │   │   ├── PPY (1069)\n",
              "    │   │   │   │   ├── VI (653)\n",
              "    │   │   │   │   ├── VII (661)\n",
              "    │   │   │   │   ├── VNC (701)\n",
              "    │   │   │   │   │   ├── LAV (209)\n",
              "    │   │   │   │   │   ├── MV (202)\n",
              "    │   │   │   │   │   ├── SPIV (225)\n",
              "    │   │   │   │   │   └── SUV (217)\n",
              "    │   │   │   │   ├── XII (773)\n",
              "    │   │   │   │   ├── x (765)\n",
              "    │   │   │   │   └── y (781)\n",
              "    │   │   │   ├── MY-sat (379)\n",
              "    │   │   │   │   ├── RM (206)\n",
              "    │   │   │   │   ├── RO (222)\n",
              "    │   │   │   │   └── RPA (230)\n",
              "    │   │   │   └── MY-sen (386)\n",
              "    │   │   │       ├── AP (207)\n",
              "    │   │   │       ├── CN (607)\n",
              "    │   │   │       │   ├── DCO (96)\n",
              "    │   │   │       │   └── VCO (101)\n",
              "    │   │   │       ├── DCN (720)\n",
              "    │   │   │       │   ├── CU (711)\n",
              "    │   │   │       │   └── GR (1039)\n",
              "    │   │   │       ├── ECU (903)\n",
              "    │   │   │       ├── NTB (642)\n",
              "    │   │   │       ├── NTS (651)\n",
              "    │   │   │       ├── Pa5 (589508451)\n",
              "    │   │   │       ├── SPVC (429)\n",
              "    │   │   │       ├── SPVI (437)\n",
              "    │   │   │       └── SPVO (445)\n",
              "    │   │   └── P (771)\n",
              "    │   │       ├── P-mot (987)\n",
              "    │   │       │   ├── Acs5 (549009219)\n",
              "    │   │       │   ├── B (280)\n",
              "    │   │       │   ├── DTN (880)\n",
              "    │   │       │   ├── I5 (549009227)\n",
              "    │   │       │   ├── P5 (549009215)\n",
              "    │   │       │   ├── PC5 (549009223)\n",
              "    │   │       │   ├── PCG (898)\n",
              "    │   │       │   ├── PDTg (599626927)\n",
              "    │   │       │   ├── PG (931)\n",
              "    │   │       │   ├── PRNc (1093)\n",
              "    │   │       │   ├── SG (318)\n",
              "    │   │       │   ├── SUT (534)\n",
              "    │   │       │   ├── TRN (574)\n",
              "    │   │       │   └── V (621)\n",
              "    │   │       ├── P-sat (1117)\n",
              "    │   │       │   ├── CS (679)\n",
              "    │   │       │   ├── LC (147)\n",
              "    │   │       │   ├── LDT (162)\n",
              "    │   │       │   ├── NI (604)\n",
              "    │   │       │   ├── PRNr (146)\n",
              "    │   │       │   ├── RPO (238)\n",
              "    │   │       │   ├── SLC (350)\n",
              "    │   │       │   └── SLD (358)\n",
              "    │   │       └── P-sen (1132)\n",
              "    │   │           ├── NLL (612)\n",
              "    │   │           ├── PB (867)\n",
              "    │   │           │   └── KF (123)\n",
              "    │   │           ├── PSV (7)\n",
              "    │   │           └── SOC (398)\n",
              "    │   │               ├── POR (122)\n",
              "    │   │               ├── SOCl (114)\n",
              "    │   │               └── SOCm (105)\n",
              "    │   ├── IB (1129)\n",
              "    │   │   ├── HY (1097)\n",
              "    │   │   │   ├── LZ (290)\n",
              "    │   │   │   │   ├── LHA (194)\n",
              "    │   │   │   │   ├── LPO (226)\n",
              "    │   │   │   │   ├── PST (356)\n",
              "    │   │   │   │   ├── PSTN (364)\n",
              "    │   │   │   │   ├── PeF (576073704)\n",
              "    │   │   │   │   ├── RCH (173)\n",
              "    │   │   │   │   ├── STN (470)\n",
              "    │   │   │   │   ├── TU (614)\n",
              "    │   │   │   │   └── ZI (797)\n",
              "    │   │   │   │       └── FF (804)\n",
              "    │   │   │   ├── ME (10671)\n",
              "    │   │   │   ├── MEZ (467)\n",
              "    │   │   │   │   ├── AHN (88)\n",
              "    │   │   │   │   ├── MBO (331)\n",
              "    │   │   │   │   │   ├── LM (210)\n",
              "    │   │   │   │   │   ├── MM (491)\n",
              "    │   │   │   │   │   │   ├── MMd (606826659)\n",
              "    │   │   │   │   │   │   ├── MMl (606826647)\n",
              "    │   │   │   │   │   │   ├── MMm (606826651)\n",
              "    │   │   │   │   │   │   ├── MMme (732)\n",
              "    │   │   │   │   │   │   └── MMp (606826655)\n",
              "    │   │   │   │   │   ├── SUM (525)\n",
              "    │   │   │   │   │   └── TM (557)\n",
              "    │   │   │   │   │       ├── TMd (1126)\n",
              "    │   │   │   │   │       └── TMv (1)\n",
              "    │   │   │   │   ├── MPN (515)\n",
              "    │   │   │   │   ├── PH (946)\n",
              "    │   │   │   │   ├── PMd (980)\n",
              "    │   │   │   │   ├── PMv (1004)\n",
              "    │   │   │   │   ├── PVHd (63)\n",
              "    │   │   │   │   └── VMH (693)\n",
              "    │   │   │   ├── PVR (141)\n",
              "    │   │   │   │   ├── ADP (72)\n",
              "    │   │   │   │   ├── AVP (263)\n",
              "    │   │   │   │   ├── AVPV (272)\n",
              "    │   │   │   │   ├── DMH (830)\n",
              "    │   │   │   │   ├── MEPO (452)\n",
              "    │   │   │   │   ├── MPO (523)\n",
              "    │   │   │   │   ├── OV (763)\n",
              "    │   │   │   │   ├── PD (914)\n",
              "    │   │   │   │   ├── PS (1109)\n",
              "    │   │   │   │   ├── PVp (126)\n",
              "    │   │   │   │   ├── PVpo (133)\n",
              "    │   │   │   │   ├── SBPV (347)\n",
              "    │   │   │   │   ├── SCH (286)\n",
              "    │   │   │   │   ├── SFO (338)\n",
              "    │   │   │   │   ├── VLPO (689)\n",
              "    │   │   │   │   └── VMPO (576073699)\n",
              "    │   │   │   └── PVZ (157)\n",
              "    │   │   │       ├── ARH (223)\n",
              "    │   │   │       ├── ASO (332)\n",
              "    │   │   │       ├── PVH (38)\n",
              "    │   │   │       ├── PVa (30)\n",
              "    │   │   │       ├── PVi (118)\n",
              "    │   │   │       └── SO (390)\n",
              "    │   │   └── TH (549)\n",
              "    │   │       ├── DORpm (856)\n",
              "    │   │       │   ├── ATN (239)\n",
              "    │   │       │   │   ├── AD (64)\n",
              "    │   │       │   │   ├── AM (127)\n",
              "    │   │       │   │   │   ├── AMd (1096)\n",
              "    │   │       │   │   │   └── AMv (1104)\n",
              "    │   │       │   │   ├── AV (255)\n",
              "    │   │       │   │   ├── IAD (1113)\n",
              "    │   │       │   │   ├── IAM (1120)\n",
              "    │   │       │   │   └── LD (155)\n",
              "    │   │       │   ├── EPI (958)\n",
              "    │   │       │   │   ├── LH (186)\n",
              "    │   │       │   │   └── MH (483)\n",
              "    │   │       │   ├── GENv (1014)\n",
              "    │   │       │   │   ├── IGL (27)\n",
              "    │   │       │   │   ├── IntG (563807439)\n",
              "    │   │       │   │   ├── LGv (178)\n",
              "    │   │       │   │   └── SubG (321)\n",
              "    │   │       │   ├── ILM (51)\n",
              "    │   │       │   │   ├── CL (575)\n",
              "    │   │       │   │   ├── CM (599)\n",
              "    │   │       │   │   ├── PCN (907)\n",
              "    │   │       │   │   ├── PF (930)\n",
              "    │   │       │   │   ├── PIL (560581563)\n",
              "    │   │       │   │   └── RH (189)\n",
              "    │   │       │   ├── LAT (138)\n",
              "    │   │       │   │   ├── Eth (560581551)\n",
              "    │   │       │   │   ├── LP (218)\n",
              "    │   │       │   │   ├── PO (1020)\n",
              "    │   │       │   │   ├── POL (1029)\n",
              "    │   │       │   │   └── SGN (325)\n",
              "    │   │       │   ├── MED (444)\n",
              "    │   │       │   │   ├── IMD (59)\n",
              "    │   │       │   │   ├── MD (362)\n",
              "    │   │       │   │   ├── PR (1077)\n",
              "    │   │       │   │   └── SMT (366)\n",
              "    │   │       │   ├── MTN (571)\n",
              "    │   │       │   │   ├── PT (15)\n",
              "    │   │       │   │   ├── PVT (149)\n",
              "    │   │       │   │   ├── RE (181)\n",
              "    │   │       │   │   └── Xi (560581559)\n",
              "    │   │       │   └── RT (262)\n",
              "    │   │       └── DORsm (864)\n",
              "    │   │           ├── GENd (1008)\n",
              "    │   │           │   ├── LGd (170)\n",
              "    │   │           │   │   ├── LGd-co (496345668)\n",
              "    │   │           │   │   ├── LGd-ip (496345672)\n",
              "    │   │           │   │   └── LGd-sh (496345664)\n",
              "    │   │           │   └── MG (475)\n",
              "    │   │           │       ├── MGd (1072)\n",
              "    │   │           │       ├── MGm (1088)\n",
              "    │   │           │       └── MGv (1079)\n",
              "    │   │           ├── PP (1044)\n",
              "    │   │           ├── SPA (609)\n",
              "    │   │           ├── SPF (406)\n",
              "    │   │           │   ├── SPFm (414)\n",
              "    │   │           │   └── SPFp (422)\n",
              "    │   │           └── VENT (637)\n",
              "    │   │               ├── PoT (563807435)\n",
              "    │   │               ├── VAL (629)\n",
              "    │   │               ├── VM (685)\n",
              "    │   │               └── VP (709)\n",
              "    │   │                   ├── VPL (718)\n",
              "    │   │                   ├── VPLpc (725)\n",
              "    │   │                   ├── VPM (733)\n",
              "    │   │                   └── VPMpc (741)\n",
              "    │   └── MB (313)\n",
              "    │       ├── MBmot (323)\n",
              "    │       │   ├── AT (231)\n",
              "    │       │   ├── CUN (616)\n",
              "    │       │   ├── DT (75)\n",
              "    │       │   ├── EW (975)\n",
              "    │       │   ├── III (35)\n",
              "    │       │   ├── IV (115)\n",
              "    │       │   ├── LT (66)\n",
              "    │       │   ├── MA3 (549009211)\n",
              "    │       │   ├── MRN (128)\n",
              "    │       │   ├── MT (58)\n",
              "    │       │   ├── PAG (795)\n",
              "    │       │   │   ├── INC (67)\n",
              "    │       │   │   ├── ND (587)\n",
              "    │       │   │   ├── PRC (50)\n",
              "    │       │   │   └── Su3 (614454277)\n",
              "    │       │   ├── PN (607344830)\n",
              "    │       │   ├── PRT (1100)\n",
              "    │       │   │   ├── APN (215)\n",
              "    │       │   │   ├── MPT (531)\n",
              "    │       │   │   ├── NOT (628)\n",
              "    │       │   │   ├── NPC (634)\n",
              "    │       │   │   ├── OP (706)\n",
              "    │       │   │   ├── PPT (1061)\n",
              "    │       │   │   └── RPF (549009203)\n",
              "    │       │   ├── Pa4 (606826663)\n",
              "    │       │   ├── RN (214)\n",
              "    │       │   ├── RR (246)\n",
              "    │       │   ├── SCm (294)\n",
              "    │       │   │   ├── SCdg (26)\n",
              "    │       │   │   ├── SCdw (42)\n",
              "    │       │   │   ├── SCig (10)\n",
              "    │       │   │   └── SCiw (17)\n",
              "    │       │   ├── SNr (381)\n",
              "    │       │   ├── VTA (749)\n",
              "    │       │   └── VTN (757)\n",
              "    │       ├── MBsen (339)\n",
              "    │       │   ├── IC (4)\n",
              "    │       │   │   ├── ICc (811)\n",
              "    │       │   │   ├── ICd (820)\n",
              "    │       │   │   └── ICe (828)\n",
              "    │       │   ├── MEV (460)\n",
              "    │       │   ├── NB (580)\n",
              "    │       │   ├── PBG (874)\n",
              "    │       │   ├── SAG (271)\n",
              "    │       │   ├── SCO (599626923)\n",
              "    │       │   └── SCs (302)\n",
              "    │       │       ├── SCop (851)\n",
              "    │       │       ├── SCsg (842)\n",
              "    │       │       └── SCzo (834)\n",
              "    │       └── MBsta (348)\n",
              "    │           ├── PPN (1052)\n",
              "    │           ├── RAmb (165)\n",
              "    │           │   ├── CLI (591)\n",
              "    │           │   ├── DR (872)\n",
              "    │           │   ├── IF (12)\n",
              "    │           │   ├── IPN (100)\n",
              "    │           │   │   ├── IPA (607344842)\n",
              "    │           │   │   ├── IPC (607344838)\n",
              "    │           │   │   ├── IPDL (607344858)\n",
              "    │           │   │   ├── IPDM (607344854)\n",
              "    │           │   │   ├── IPI (607344850)\n",
              "    │           │   │   ├── IPL (607344846)\n",
              "    │           │   │   ├── IPR (607344834)\n",
              "    │           │   │   └── IPRL (607344862)\n",
              "    │           │   └── RL (197)\n",
              "    │           └── SNc (374)\n",
              "    ├── CB (512)\n",
              "    │   ├── CBN (519)\n",
              "    │   │   ├── DN (846)\n",
              "    │   │   ├── FN (989)\n",
              "    │   │   ├── IP (91)\n",
              "    │   │   └── VeCB (589508455)\n",
              "    │   └── CBX (528)\n",
              "    │       ├── HEM (1073)\n",
              "    │       │   ├── AN (1017)\n",
              "    │       │   │   ├── ANcr1 (1056)\n",
              "    │       │   │   └── ANcr2 (1064)\n",
              "    │       │   ├── COPY (1033)\n",
              "    │       │   ├── FL (1049)\n",
              "    │       │   ├── PFL (1041)\n",
              "    │       │   ├── PRM (1025)\n",
              "    │       │   └── SIM (1007)\n",
              "    │       └── VERM (645)\n",
              "    │           ├── CENT (920)\n",
              "    │           │   ├── CENT2 (976)\n",
              "    │           │   └── CENT3 (984)\n",
              "    │           ├── CUL (928)\n",
              "    │           │   └── CUL4, 5 (1091)\n",
              "    │           ├── DEC (936)\n",
              "    │           ├── FOTU (944)\n",
              "    │           ├── LING (912)\n",
              "    │           ├── NOD (968)\n",
              "    │           ├── PYR (951)\n",
              "    │           └── UVU (957)\n",
              "    └── CH (567)\n",
              "        ├── CNU (623)\n",
              "        │   ├── PAL (803)\n",
              "        │   │   ├── PALc (809)\n",
              "        │   │   │   ├── BAC (287)\n",
              "        │   │   │   └── BST (351)\n",
              "        │   │   ├── PALd (818)\n",
              "        │   │   │   ├── GPe (1022)\n",
              "        │   │   │   └── GPi (1031)\n",
              "        │   │   ├── PALm (826)\n",
              "        │   │   │   ├── MSC (904)\n",
              "        │   │   │   │   ├── MS (564)\n",
              "        │   │   │   │   └── NDB (596)\n",
              "        │   │   │   └── TRS (581)\n",
              "        │   │   └── PALv (835)\n",
              "        │   │       ├── MA (298)\n",
              "        │   │       └── SI (342)\n",
              "        │   └── STR (477)\n",
              "        │       ├── LSX (275)\n",
              "        │       │   ├── LS (242)\n",
              "        │       │   │   ├── LSc (250)\n",
              "        │       │   │   ├── LSr (258)\n",
              "        │       │   │   └── LSv (266)\n",
              "        │       │   ├── SF (310)\n",
              "        │       │   └── SH (333)\n",
              "        │       ├── STRd (485)\n",
              "        │       │   └── CP (672)\n",
              "        │       ├── STRv (493)\n",
              "        │       │   ├── ACB (56)\n",
              "        │       │   ├── FS (998)\n",
              "        │       │   └── OT (754)\n",
              "        │       └── sAMY (278)\n",
              "        │           ├── AAA (23)\n",
              "        │           ├── BA (292)\n",
              "        │           ├── CEA (536)\n",
              "        │           │   ├── CEAc (544)\n",
              "        │           │   ├── CEAl (551)\n",
              "        │           │   └── CEAm (559)\n",
              "        │           ├── IA (1105)\n",
              "        │           └── MEA (403)\n",
              "        └── CTX (688)\n",
              "            ├── CTXpl (695)\n",
              "            │   ├── HPF (1089)\n",
              "            │   │   ├── HIP (1080)\n",
              "            │   │   │   ├── CA (375)\n",
              "            │   │   │   │   ├── CA1 (382)\n",
              "            │   │   │   │   ├── CA2 (423)\n",
              "            │   │   │   │   └── CA3 (463)\n",
              "            │   │   │   ├── DG (726)\n",
              "            │   │   │   │   ├── DG-mo (10703)\n",
              "            │   │   │   │   ├── DG-po (10704)\n",
              "            │   │   │   │   └── DG-sg (632)\n",
              "            │   │   │   ├── FC (982)\n",
              "            │   │   │   └── IG (19)\n",
              "            │   │   └── RHP (822)\n",
              "            │   │       ├── APr (484682508)\n",
              "            │   │       ├── ENT (909)\n",
              "            │   │       │   ├── ENTl (918)\n",
              "            │   │       │   │   ├── ENTl1 (1121)\n",
              "            │   │       │   │   ├── ENTl2 (20)\n",
              "            │   │       │   │   ├── ENTl3 (52)\n",
              "            │   │       │   │   ├── ENTl5 (139)\n",
              "            │   │       │   │   └── ENTl6a (28)\n",
              "            │   │       │   └── ENTm (926)\n",
              "            │   │       │       ├── ENTm1 (526)\n",
              "            │   │       │       ├── ENTm2 (543)\n",
              "            │   │       │       ├── ENTm3 (664)\n",
              "            │   │       │       ├── ENTm5 (727)\n",
              "            │   │       │       └── ENTm6 (743)\n",
              "            │   │       ├── HATA (589508447)\n",
              "            │   │       ├── PAR (843)\n",
              "            │   │       ├── POST (1037)\n",
              "            │   │       ├── PRE (1084)\n",
              "            │   │       ├── ProS (484682470)\n",
              "            │   │       └── SUB (502)\n",
              "            │   ├── Isocortex (315)\n",
              "            │   │   ├── ACA (31)\n",
              "            │   │   │   ├── ACAd (39)\n",
              "            │   │   │   │   ├── ACAd1 (935)\n",
              "            │   │   │   │   ├── ACAd2/3 (211)\n",
              "            │   │   │   │   ├── ACAd5 (1015)\n",
              "            │   │   │   │   ├── ACAd6a (919)\n",
              "            │   │   │   │   └── ACAd6b (927)\n",
              "            │   │   │   └── ACAv (48)\n",
              "            │   │   │       ├── ACAv1 (588)\n",
              "            │   │   │       ├── ACAv2/3 (296)\n",
              "            │   │   │       ├── ACAv5 (772)\n",
              "            │   │   │       ├── ACAv6a (810)\n",
              "            │   │   │       └── ACAv6b (819)\n",
              "            │   │   ├── AI (95)\n",
              "            │   │   │   ├── AId (104)\n",
              "            │   │   │   │   ├── AId1 (996)\n",
              "            │   │   │   │   ├── AId2/3 (328)\n",
              "            │   │   │   │   ├── AId5 (1101)\n",
              "            │   │   │   │   ├── AId6a (783)\n",
              "            │   │   │   │   └── AId6b (831)\n",
              "            │   │   │   ├── AIp (111)\n",
              "            │   │   │   │   ├── AIp1 (120)\n",
              "            │   │   │   │   ├── AIp2/3 (163)\n",
              "            │   │   │   │   ├── AIp5 (344)\n",
              "            │   │   │   │   ├── AIp6a (314)\n",
              "            │   │   │   │   └── AIp6b (355)\n",
              "            │   │   │   └── AIv (119)\n",
              "            │   │   │       ├── AIv1 (704)\n",
              "            │   │   │       ├── AIv2/3 (694)\n",
              "            │   │   │       ├── AIv5 (800)\n",
              "            │   │   │       ├── AIv6a (675)\n",
              "            │   │   │       └── AIv6b (699)\n",
              "            │   │   ├── AUD (247)\n",
              "            │   │   │   ├── AUDd (1011)\n",
              "            │   │   │   │   ├── AUDd1 (527)\n",
              "            │   │   │   │   ├── AUDd2/3 (600)\n",
              "            │   │   │   │   ├── AUDd4 (678)\n",
              "            │   │   │   │   ├── AUDd5 (252)\n",
              "            │   │   │   │   ├── AUDd6a (156)\n",
              "            │   │   │   │   └── AUDd6b (243)\n",
              "            │   │   │   ├── AUDp (1002)\n",
              "            │   │   │   │   ├── AUDp1 (735)\n",
              "            │   │   │   │   ├── AUDp2/3 (251)\n",
              "            │   │   │   │   ├── AUDp4 (816)\n",
              "            │   │   │   │   ├── AUDp5 (847)\n",
              "            │   │   │   │   ├── AUDp6a (954)\n",
              "            │   │   │   │   └── AUDp6b (1005)\n",
              "            │   │   │   ├── AUDpo (1027)\n",
              "            │   │   │   │   ├── AUDpo1 (696)\n",
              "            │   │   │   │   ├── AUDpo2/3 (643)\n",
              "            │   │   │   │   ├── AUDpo4 (759)\n",
              "            │   │   │   │   ├── AUDpo5 (791)\n",
              "            │   │   │   │   ├── AUDpo6a (249)\n",
              "            │   │   │   │   └── AUDpo6b (456)\n",
              "            │   │   │   └── AUDv (1018)\n",
              "            │   │   │       ├── AUDv1 (959)\n",
              "            │   │   │       ├── AUDv2/3 (755)\n",
              "            │   │   │       ├── AUDv4 (990)\n",
              "            │   │   │       ├── AUDv5 (1023)\n",
              "            │   │   │       ├── AUDv6a (520)\n",
              "            │   │   │       └── AUDv6b (598)\n",
              "            │   │   ├── ECT (895)\n",
              "            │   │   │   ├── ECT1 (836)\n",
              "            │   │   │   ├── ECT2/3 (427)\n",
              "            │   │   │   ├── ECT5 (988)\n",
              "            │   │   │   ├── ECT6a (977)\n",
              "            │   │   │   └── ECT6b (1045)\n",
              "            │   │   ├── FRP (184)\n",
              "            │   │   │   ├── FRP1 (68)\n",
              "            │   │   │   ├── FRP2/3 (667)\n",
              "            │   │   │   ├── FRP5 (526157192)\n",
              "            │   │   │   ├── FRP6a (526157196)\n",
              "            │   │   │   └── FRP6b (526322264)\n",
              "            │   │   ├── GU (1057)\n",
              "            │   │   │   ├── GU1 (36)\n",
              "            │   │   │   ├── GU2/3 (180)\n",
              "            │   │   │   ├── GU4 (148)\n",
              "            │   │   │   ├── GU5 (187)\n",
              "            │   │   │   ├── GU6a (638)\n",
              "            │   │   │   └── GU6b (662)\n",
              "            │   │   ├── ILA (44)\n",
              "            │   │   │   ├── ILA1 (707)\n",
              "            │   │   │   ├── ILA2/3 (556)\n",
              "            │   │   │   ├── ILA5 (827)\n",
              "            │   │   │   ├── ILA6a (1054)\n",
              "            │   │   │   └── ILA6b (1081)\n",
              "            │   │   ├── MO (500)\n",
              "            │   │   │   ├── MOp (985)\n",
              "            │   │   │   │   ├── MOp1 (320)\n",
              "            │   │   │   │   ├── MOp2/3 (943)\n",
              "            │   │   │   │   ├── MOp5 (648)\n",
              "            │   │   │   │   ├── MOp6a (844)\n",
              "            │   │   │   │   └── MOp6b (882)\n",
              "            │   │   │   └── MOs (993)\n",
              "            │   │   │       ├── MOs1 (656)\n",
              "            │   │   │       ├── MOs2/3 (962)\n",
              "            │   │   │       ├── MOs5 (767)\n",
              "            │   │   │       ├── MOs6a (1021)\n",
              "            │   │   │       └── MOs6b (1085)\n",
              "            │   │   ├── ORB (714)\n",
              "            │   │   │   ├── ORBl (723)\n",
              "            │   │   │   │   ├── ORBl1 (448)\n",
              "            │   │   │   │   ├── ORBl2/3 (412)\n",
              "            │   │   │   │   ├── ORBl5 (630)\n",
              "            │   │   │   │   ├── ORBl6a (440)\n",
              "            │   │   │   │   └── ORBl6b (488)\n",
              "            │   │   │   ├── ORBm (731)\n",
              "            │   │   │   │   ├── ORBm1 (484)\n",
              "            │   │   │   │   ├── ORBm2/3 (582)\n",
              "            │   │   │   │   ├── ORBm5 (620)\n",
              "            │   │   │   │   ├── ORBm6a (910)\n",
              "            │   │   │   │   └── ORBm6b (527696977)\n",
              "            │   │   │   └── ORBvl (746)\n",
              "            │   │   │       ├── ORBvl1 (969)\n",
              "            │   │   │       ├── ORBvl2/3 (288)\n",
              "            │   │   │       ├── ORBvl5 (1125)\n",
              "            │   │   │       ├── ORBvl6a (608)\n",
              "            │   │   │       └── ORBvl6b (680)\n",
              "            │   │   ├── PERI (922)\n",
              "            │   │   │   ├── PERI1 (540)\n",
              "            │   │   │   ├── PERI2/3 (888)\n",
              "            │   │   │   ├── PERI5 (692)\n",
              "            │   │   │   ├── PERI6a (335)\n",
              "            │   │   │   └── PERI6b (368)\n",
              "            │   │   ├── PL (972)\n",
              "            │   │   │   ├── PL1 (171)\n",
              "            │   │   │   ├── PL2/3 (304)\n",
              "            │   │   │   ├── PL5 (363)\n",
              "            │   │   │   ├── PL6a (84)\n",
              "            │   │   │   └── PL6b (132)\n",
              "            │   │   ├── PTLp (22)\n",
              "            │   │   │   ├── VISa (312782546)\n",
              "            │   │   │   │   ├── VISa1 (312782550)\n",
              "            │   │   │   │   ├── VISa2/3 (312782554)\n",
              "            │   │   │   │   ├── VISa4 (312782558)\n",
              "            │   │   │   │   ├── VISa5 (312782562)\n",
              "            │   │   │   │   ├── VISa6a (312782566)\n",
              "            │   │   │   │   └── VISa6b (312782570)\n",
              "            │   │   │   └── VISrl (417)\n",
              "            │   │   │       ├── VISrl1 (312782604)\n",
              "            │   │   │       ├── VISrl2/3 (312782608)\n",
              "            │   │   │       ├── VISrl4 (312782612)\n",
              "            │   │   │       ├── VISrl5 (312782616)\n",
              "            │   │   │       ├── VISrl6a (312782620)\n",
              "            │   │   │       └── VISrl6b (312782624)\n",
              "            │   │   ├── RSP (254)\n",
              "            │   │   │   ├── RSPagl (894)\n",
              "            │   │   │   │   ├── RSPagl1 (671)\n",
              "            │   │   │   │   ├── RSPagl2/3 (965)\n",
              "            │   │   │   │   ├── RSPagl5 (774)\n",
              "            │   │   │   │   ├── RSPagl6a (906)\n",
              "            │   │   │   │   └── RSPagl6b (279)\n",
              "            │   │   │   ├── RSPd (879)\n",
              "            │   │   │   │   ├── RSPd1 (442)\n",
              "            │   │   │   │   ├── RSPd2/3 (434)\n",
              "            │   │   │   │   ├── RSPd4 (545)\n",
              "            │   │   │   │   ├── RSPd5 (610)\n",
              "            │   │   │   │   ├── RSPd6a (274)\n",
              "            │   │   │   │   └── RSPd6b (330)\n",
              "            │   │   │   └── RSPv (886)\n",
              "            │   │   │       ├── RSPv1 (542)\n",
              "            │   │   │       ├── RSPv2/3 (430)\n",
              "            │   │   │       ├── RSPv5 (687)\n",
              "            │   │   │       ├── RSPv6a (590)\n",
              "            │   │   │       └── RSPv6b (622)\n",
              "            │   │   ├── SS (453)\n",
              "            │   │   │   ├── SSp (322)\n",
              "            │   │   │   │   ├── SSp-bfd (329)\n",
              "            │   │   │   │   │   ├── SSp-bfd1 (981)\n",
              "            │   │   │   │   │   ├── SSp-bfd2/3 (201)\n",
              "            │   │   │   │   │   ├── SSp-bfd4 (1047)\n",
              "            │   │   │   │   │   ├── SSp-bfd5 (1070)\n",
              "            │   │   │   │   │   ├── SSp-bfd6a (1038)\n",
              "            │   │   │   │   │   └── SSp-bfd6b (1062)\n",
              "            │   │   │   │   ├── SSp-ll (337)\n",
              "            │   │   │   │   │   ├── SSp-ll1 (1030)\n",
              "            │   │   │   │   │   ├── SSp-ll2/3 (113)\n",
              "            │   │   │   │   │   ├── SSp-ll4 (1094)\n",
              "            │   │   │   │   │   ├── SSp-ll5 (1128)\n",
              "            │   │   │   │   │   ├── SSp-ll6a (478)\n",
              "            │   │   │   │   │   └── SSp-ll6b (510)\n",
              "            │   │   │   │   ├── SSp-m (345)\n",
              "            │   │   │   │   │   ├── SSp-m1 (878)\n",
              "            │   │   │   │   │   ├── SSp-m2/3 (657)\n",
              "            │   │   │   │   │   ├── SSp-m4 (950)\n",
              "            │   │   │   │   │   ├── SSp-m5 (974)\n",
              "            │   │   │   │   │   ├── SSp-m6a (1102)\n",
              "            │   │   │   │   │   └── SSp-m6b (2)\n",
              "            │   │   │   │   ├── SSp-n (353)\n",
              "            │   │   │   │   │   ├── SSp-n1 (558)\n",
              "            │   │   │   │   │   ├── SSp-n2/3 (838)\n",
              "            │   │   │   │   │   ├── SSp-n4 (654)\n",
              "            │   │   │   │   │   ├── SSp-n5 (702)\n",
              "            │   │   │   │   │   ├── SSp-n6a (889)\n",
              "            │   │   │   │   │   └── SSp-n6b (929)\n",
              "            │   │   │   │   ├── SSp-tr (361)\n",
              "            │   │   │   │   │   ├── SSp-tr1 (1006)\n",
              "            │   │   │   │   │   ├── SSp-tr2/3 (670)\n",
              "            │   │   │   │   │   ├── SSp-tr4 (1086)\n",
              "            │   │   │   │   │   ├── SSp-tr5 (1111)\n",
              "            │   │   │   │   │   ├── SSp-tr6a (9)\n",
              "            │   │   │   │   │   └── SSp-tr6b (461)\n",
              "            │   │   │   │   ├── SSp-ul (369)\n",
              "            │   │   │   │   │   ├── SSp-ul1 (450)\n",
              "            │   │   │   │   │   ├── SSp-ul2/3 (854)\n",
              "            │   │   │   │   │   ├── SSp-ul4 (577)\n",
              "            │   │   │   │   │   ├── SSp-ul5 (625)\n",
              "            │   │   │   │   │   ├── SSp-ul6a (945)\n",
              "            │   │   │   │   │   └── SSp-ul6b (1026)\n",
              "            │   │   │   │   └── SSp-un (182305689)\n",
              "            │   │   │   │       ├── SSp-un1 (182305693)\n",
              "            │   │   │   │       ├── SSp-un2/3 (182305697)\n",
              "            │   │   │   │       ├── SSp-un4 (182305701)\n",
              "            │   │   │   │       ├── SSp-un5 (182305705)\n",
              "            │   │   │   │       ├── SSp-un6a (182305709)\n",
              "            │   │   │   │       └── SSp-un6b (182305713)\n",
              "            │   │   │   └── SSs (378)\n",
              "            │   │   │       ├── SSs1 (873)\n",
              "            │   │   │       ├── SSs2/3 (806)\n",
              "            │   │   │       ├── SSs4 (1035)\n",
              "            │   │   │       ├── SSs5 (1090)\n",
              "            │   │   │       ├── SSs6a (862)\n",
              "            │   │   │       └── SSs6b (893)\n",
              "            │   │   ├── TEa (541)\n",
              "            │   │   │   ├── TEa1 (97)\n",
              "            │   │   │   ├── TEa2/3 (1127)\n",
              "            │   │   │   ├── TEa4 (234)\n",
              "            │   │   │   ├── TEa5 (289)\n",
              "            │   │   │   ├── TEa6a (729)\n",
              "            │   │   │   └── TEa6b (786)\n",
              "            │   │   ├── VIS (669)\n",
              "            │   │   │   ├── VISal (402)\n",
              "            │   │   │   │   ├── VISal1 (1074)\n",
              "            │   │   │   │   ├── VISal2/3 (905)\n",
              "            │   │   │   │   ├── VISal4 (1114)\n",
              "            │   │   │   │   ├── VISal5 (233)\n",
              "            │   │   │   │   ├── VISal6a (601)\n",
              "            │   │   │   │   └── VISal6b (649)\n",
              "            │   │   │   ├── VISam (394)\n",
              "            │   │   │   │   ├── VISam1 (281)\n",
              "            │   │   │   │   ├── VISam2/3 (1066)\n",
              "            │   │   │   │   ├── VISam4 (401)\n",
              "            │   │   │   │   ├── VISam5 (433)\n",
              "            │   │   │   │   ├── VISam6a (1046)\n",
              "            │   │   │   │   └── VISam6b (441)\n",
              "            │   │   │   ├── VISl (409)\n",
              "            │   │   │   │   ├── VISl1 (421)\n",
              "            │   │   │   │   ├── VISl2/3 (973)\n",
              "            │   │   │   │   ├── VISl4 (573)\n",
              "            │   │   │   │   ├── VISl5 (613)\n",
              "            │   │   │   │   ├── VISl6a (74)\n",
              "            │   │   │   │   └── VISl6b (121)\n",
              "            │   │   │   ├── VISli (312782574)\n",
              "            │   │   │   │   ├── VISli1 (312782578)\n",
              "            │   │   │   │   ├── VISli2/3 (312782582)\n",
              "            │   │   │   │   ├── VISli4 (312782586)\n",
              "            │   │   │   │   ├── VISli5 (312782590)\n",
              "            │   │   │   │   ├── VISli6a (312782594)\n",
              "            │   │   │   │   └── VISli6b (312782598)\n",
              "            │   │   │   ├── VISp (385)\n",
              "            │   │   │   │   ├── VISp1 (593)\n",
              "            │   │   │   │   ├── VISp2/3 (821)\n",
              "            │   │   │   │   ├── VISp4 (721)\n",
              "            │   │   │   │   ├── VISp5 (778)\n",
              "            │   │   │   │   ├── VISp6a (33)\n",
              "            │   │   │   │   └── VISp6b (305)\n",
              "            │   │   │   ├── VISpl (425)\n",
              "            │   │   │   │   ├── VISpl1 (750)\n",
              "            │   │   │   │   ├── VISpl2/3 (269)\n",
              "            │   │   │   │   ├── VISpl4 (869)\n",
              "            │   │   │   │   ├── VISpl5 (902)\n",
              "            │   │   │   │   ├── VISpl6a (377)\n",
              "            │   │   │   │   └── VISpl6b (393)\n",
              "            │   │   │   ├── VISpm (533)\n",
              "            │   │   │   │   ├── VISpm1 (805)\n",
              "            │   │   │   │   ├── VISpm2/3 (41)\n",
              "            │   │   │   │   ├── VISpm4 (501)\n",
              "            │   │   │   │   ├── VISpm5 (565)\n",
              "            │   │   │   │   ├── VISpm6a (257)\n",
              "            │   │   │   │   └── VISpm6b (469)\n",
              "            │   │   │   └── VISpor (312782628)\n",
              "            │   │   │       ├── VISpor1 (312782632)\n",
              "            │   │   │       ├── VISpor2/3 (312782636)\n",
              "            │   │   │       ├── VISpor4 (312782640)\n",
              "            │   │   │       ├── VISpor5 (312782644)\n",
              "            │   │   │       ├── VISpor6a (312782648)\n",
              "            │   │   │       └── VISpor6b (312782652)\n",
              "            │   │   └── VISC (677)\n",
              "            │   │       ├── VISC1 (897)\n",
              "            │   │       ├── VISC2/3 (1106)\n",
              "            │   │       ├── VISC4 (1010)\n",
              "            │   │       ├── VISC5 (1058)\n",
              "            │   │       ├── VISC6a (857)\n",
              "            │   │       └── VISC6b (849)\n",
              "            │   └── OLF (698)\n",
              "            │       ├── AOB (151)\n",
              "            │       │   ├── AOBgl (188)\n",
              "            │       │   ├── AOBgr (196)\n",
              "            │       │   └── AOBmi (204)\n",
              "            │       ├── AON (159)\n",
              "            │       ├── COA (631)\n",
              "            │       │   ├── COAa (639)\n",
              "            │       │   └── COAp (647)\n",
              "            │       │       ├── COApl (655)\n",
              "            │       │       └── COApm (663)\n",
              "            │       ├── DP (814)\n",
              "            │       ├── MOB (507)\n",
              "            │       ├── NLOT (619)\n",
              "            │       │   ├── NLOT1 (260)\n",
              "            │       │   ├── NLOT2 (268)\n",
              "            │       │   └── NLOT3 (1139)\n",
              "            │       ├── PAA (788)\n",
              "            │       ├── PIR (961)\n",
              "            │       ├── TR (566)\n",
              "            │       └── TT (589)\n",
              "            │           ├── TTd (597)\n",
              "            │           └── TTv (605)\n",
              "            └── CTXsp (703)\n",
              "                ├── BLA (295)\n",
              "                │   ├── BLAa (303)\n",
              "                │   ├── BLAp (311)\n",
              "                │   └── BLAv (451)\n",
              "                ├── BMA (319)\n",
              "                │   ├── BMAa (327)\n",
              "                │   └── BMAp (334)\n",
              "                ├── CLA (583)\n",
              "                ├── EP (942)\n",
              "                │   ├── EPd (952)\n",
              "                │   └── EPv (966)\n",
              "                ├── LA (131)\n",
              "                └── PA (780)"
            ]
          },
          "metadata": {},
          "execution_count": 10
        }
      ],
      "source": [
        "bg_atlas.structures"
      ]
    },
    {
      "cell_type": "markdown",
      "metadata": {
        "id": "3gYkExqc94th"
      },
      "source": [
        "The structures attribute is a custom dictionary that can be queried by region number or acronym, and contains all the information for a given structure:"
      ]
    },
    {
      "cell_type": "code",
      "execution_count": 11,
      "metadata": {
        "id": "N3LYZ7s594ti",
        "outputId": "43d54b16-970e-4555-8d23-2774673795d8",
        "colab": {
          "base_uri": "https://localhost:8080/"
        }
      },
      "outputs": [
        {
          "output_type": "stream",
          "name": "stdout",
          "text": [
            "{'acronym': 'root',\n",
            " 'id': 997,\n",
            " 'mesh': None,\n",
            " 'mesh_filename': PosixPath('/root/.brainglobe/allen_mouse_100um_v1.2/meshes/997.obj'),\n",
            " 'name': 'root',\n",
            " 'rgb_triplet': [255, 255, 255],\n",
            " 'structure_id_path': [997]}\n"
          ]
        }
      ],
      "source": [
        "pprint(bg_atlas.structures[\"root\"])"
      ]
    },
    {
      "cell_type": "markdown",
      "metadata": {
        "id": "Yfdg3YQJ94ti"
      },
      "source": [
        "In particular, the `structure_id_path` key contains a list description of the path in the hierarchy up to a particular region, and can be used for queries on the hierarchy."
      ]
    },
    {
      "cell_type": "code",
      "execution_count": 12,
      "metadata": {
        "id": "-xSpJqRh94ti",
        "outputId": "51e4435e-af84-4bf7-f42f-ce600e738659",
        "colab": {
          "base_uri": "https://localhost:8080/"
        }
      },
      "outputs": [
        {
          "output_type": "execute_result",
          "data": {
            "text/plain": [
              "[997, 8, 567]"
            ]
          },
          "metadata": {},
          "execution_count": 12
        }
      ],
      "source": [
        "bg_atlas.structures[\"CH\"][\"structure_id_path\"]"
      ]
    },
    {
      "cell_type": "markdown",
      "metadata": {
        "id": "ipVxRC8A94tj"
      },
      "source": [
        "We can use the `bg_atlas.get_structure_descendants` and `bg_atlas.get_structure_ancestors` methods to explore the hierarchy:"
      ]
    },
    {
      "cell_type": "code",
      "execution_count": 13,
      "metadata": {
        "id": "XGpupChu94tj",
        "outputId": "82a8ff50-8c6f-4aea-f99e-bd20aa6727e1",
        "colab": {
          "base_uri": "https://localhost:8080/"
        }
      },
      "outputs": [
        {
          "output_type": "execute_result",
          "data": {
            "text/plain": [
              "['VISC1', 'VISC2/3', 'VISC4', 'VISC5', 'VISC6a', 'VISC6b']"
            ]
          },
          "metadata": {},
          "execution_count": 13
        }
      ],
      "source": [
        "bg_atlas.get_structure_descendants(\"VISC\")"
      ]
    },
    {
      "cell_type": "code",
      "execution_count": null,
      "metadata": {
        "id": "v8T8bOii94tj",
        "outputId": "c4b3f090-d088-43f5-c7c0-411ded49e9e2"
      },
      "outputs": [
        {
          "data": {
            "text/plain": [
              "['root', 'grey', 'CH', 'CTX', 'CTXpl', 'Isocortex', 'VISC']"
            ]
          },
          "execution_count": 9,
          "metadata": {},
          "output_type": "execute_result"
        }
      ],
      "source": [
        "bg_atlas.get_structure_ancestors(\"VISC6a\")"
      ]
    },
    {
      "cell_type": "markdown",
      "metadata": {
        "id": "dmhj408D94tj"
      },
      "source": [
        "---\n",
        "**NOTE**: \n",
        "the levels of the hierarchy depends on the underlying atlas, so we cannot ensure the goodness and consistency of their hierarchy three.\n",
        "---"
      ]
    },
    {
      "cell_type": "markdown",
      "metadata": {
        "id": "LSLOpI_394tk"
      },
      "source": [
        "There is an higher level description of the structures hierarchy that is built using the [treelib](https://treelib.readthedocs.io/en/latest/) package, and is available as: "
      ]
    },
    {
      "cell_type": "code",
      "execution_count": 14,
      "metadata": {
        "id": "U7N1ppmq94tk",
        "outputId": "7d68b105-e899-48cd-a97e-02fa4d312081",
        "colab": {
          "base_uri": "https://localhost:8080/"
        }
      },
      "outputs": [
        {
          "output_type": "execute_result",
          "data": {
            "text/plain": [
              "<treelib.tree.Tree at 0x7f5e2bb9cc40>"
            ]
          },
          "metadata": {},
          "execution_count": 14
        }
      ],
      "source": [
        "bg_atlas.structures.tree"
      ]
    },
    {
      "cell_type": "markdown",
      "metadata": {
        "id": "VZ9ROWqT94tk"
      },
      "source": [
        "For most applications though the methods described above and the list path of each region should be enough to query the hierarchy without additional layers of complication."
      ]
    },
    {
      "cell_type": "markdown",
      "metadata": {
        "id": "crrAMYYF94tl"
      },
      "source": [
        "### 1.3 Region masks"
      ]
    },
    {
      "cell_type": "markdown",
      "metadata": {
        "id": "2-lVE6kg94tl"
      },
      "source": [
        "The `get_structure_mask` method returns a mask volume where all voxels belonging to an area or to the descendants of that area are non zero. All other voxels are zero. We will generate the structure mask for primary visual cortex to see how this works. \n",
        "\n",
        "Primary visual cortex (`VISp`) has an ID value of `385` but no voxels in the annotation image actually have that value:"
      ]
    },
    {
      "cell_type": "code",
      "execution_count": 15,
      "metadata": {
        "id": "ijxrUbEf94tl",
        "outputId": "9288fb68-02fb-413e-b485-10cfd36fce69",
        "colab": {
          "base_uri": "https://localhost:8080/"
        }
      },
      "outputs": [
        {
          "output_type": "stream",
          "name": "stdout",
          "text": [
            "{'acronym': 'VISp',\n",
            " 'id': 385,\n",
            " 'mesh': None,\n",
            " 'mesh_filename': PosixPath('/root/.brainglobe/allen_mouse_100um_v1.2/meshes/385.obj'),\n",
            " 'name': 'Primary visual area',\n",
            " 'rgb_triplet': [8, 133, 140],\n",
            " 'structure_id_path': [997, 8, 567, 688, 695, 315, 669, 385]}\n"
          ]
        }
      ],
      "source": [
        "pprint(bg_atlas.structures[\"VISp\"])"
      ]
    },
    {
      "cell_type": "code",
      "execution_count": 16,
      "metadata": {
        "id": "_3UsImT994tl",
        "outputId": "4e0c0817-8297-47d2-c193-e633da3e3188",
        "colab": {
          "base_uri": "https://localhost:8080/"
        }
      },
      "outputs": [
        {
          "output_type": "execute_result",
          "data": {
            "text/plain": [
              "0"
            ]
          },
          "metadata": {},
          "execution_count": 16
        }
      ],
      "source": [
        "# No voxels in the annotation volume are labelled as being VISp\n",
        "(bg_atlas.annotation==385).sum()"
      ]
    },
    {
      "cell_type": "markdown",
      "metadata": {
        "id": "V8jg4g_U94tm"
      },
      "source": [
        "The reason no VISp voxels exist is because the annotation volume is segmented more finely. In this case `VISp` is divided into cortical layers and it is IDs associated with these layers that are present in the annotation volume."
      ]
    },
    {
      "cell_type": "code",
      "execution_count": 17,
      "metadata": {
        "id": "nTPGmwSs94tm",
        "outputId": "d979ea9a-812b-4c83-8432-dd8f7649ad9e",
        "colab": {
          "base_uri": "https://localhost:8080/"
        }
      },
      "outputs": [
        {
          "output_type": "execute_result",
          "data": {
            "text/plain": [
              "['VISp1', 'VISp2/3', 'VISp4', 'VISp5', 'VISp6a', 'VISp6b']"
            ]
          },
          "metadata": {},
          "execution_count": 17
        }
      ],
      "source": [
        "# The descendants (children) of VISp are cortical layers\n",
        "bg_atlas.get_structure_descendants(\"VISp\")"
      ]
    },
    {
      "cell_type": "code",
      "execution_count": 18,
      "metadata": {
        "id": "lCIERa5S94tm",
        "outputId": "5606223a-aab8-40bd-dbd9-64f63fd2af2f",
        "colab": {
          "base_uri": "https://localhost:8080/"
        }
      },
      "outputs": [
        {
          "output_type": "stream",
          "name": "stdout",
          "text": [
            "VISp1\t593\n",
            "VISp2/3\t821\n",
            "VISp4\t721\n",
            "VISp5\t778\n",
            "VISp6a\t33\n",
            "VISp6b\t305\n"
          ]
        }
      ],
      "source": [
        "# The IDs associated with each layer in primary visual cortex\n",
        "layers = bg_atlas.get_structure_descendants(\"VISp\")\n",
        "layer_ids = [bg_atlas.structures[this_layer]['id'] for this_layer in layers]\n",
        "\n",
        "for (this_layer, this_id) in zip(layers, layer_ids):\n",
        "    print(\"%s\\t%s\" % (this_layer, this_id))\n",
        "\n"
      ]
    },
    {
      "cell_type": "markdown",
      "metadata": {
        "id": "DiobpPmJ94tn"
      },
      "source": [
        "These IDs are indeed present in the annotation volume:"
      ]
    },
    {
      "cell_type": "code",
      "execution_count": null,
      "metadata": {
        "id": "UzF8vcQH94tn",
        "outputId": "1bd13e6d-6e4f-43d9-f316-72eaff1eb7c4"
      },
      "outputs": [
        {
          "data": {
            "text/plain": [
              "1565"
            ]
          },
          "execution_count": 15,
          "metadata": {},
          "output_type": "execute_result"
        }
      ],
      "source": [
        "# For example, we find over a thousand voxels associated with primary visual cortex layer 6\n",
        "# in the annotation volume\n",
        "(bg_atlas.annotation==778).sum()"
      ]
    },
    {
      "cell_type": "markdown",
      "metadata": {
        "id": "2RIlSZlx94to"
      },
      "source": [
        "So lets use `get_structure_mask` to return a mask volume that retains only `VISp`."
      ]
    },
    {
      "cell_type": "code",
      "execution_count": 19,
      "metadata": {
        "id": "BlCvluNz94to"
      },
      "outputs": [],
      "source": [
        "mask_VISp = bg_atlas.get_structure_mask('VISp')"
      ]
    },
    {
      "cell_type": "code",
      "execution_count": 20,
      "metadata": {
        "id": "yFzCLX_394tp",
        "outputId": "cc124e78-54dc-4906-b7dc-48006ad18daa",
        "colab": {
          "base_uri": "https://localhost:8080/",
          "height": 241
        }
      },
      "outputs": [
        {
          "output_type": "display_data",
          "data": {
            "text/plain": [
              "<Figure size 864x216 with 3 Axes>"
            ],
            "image/png": "[encoded data removed]"
          },
          "metadata": {
            "needs_background": "light"
          }
        }
      ],
      "source": [
        "f, axs = plt.subplots(1,3, figsize=(12, 3))\n",
        "for i, (plane, labels) in enumerate(zip(space.sections, space.axis_labels)):\n",
        "    axs[i].imshow(mask_VISp.max(i), cmap=\"gray\")\n",
        "    axs[i].set_title(f\"{plane.capitalize()} view\")\n",
        "    axs[i].set_ylabel(labels[0])\n",
        "    axs[i].set_xlabel(labels[1])\n"
      ]
    },
    {
      "cell_type": "markdown",
      "metadata": {
        "id": "wULCm_mP94tp"
      },
      "source": [
        "The `root` node encompases the whole brain and we can use this to provide a background image for the above area."
      ]
    },
    {
      "cell_type": "code",
      "execution_count": 21,
      "metadata": {
        "id": "Z_A8irs294tp"
      },
      "outputs": [],
      "source": [
        "mask_root = bg_atlas.get_structure_mask('root')\n",
        "\n",
        "# The mask images have pixel values equal to the ID of the parent area, so we change these for\n",
        "# plotting purposes. \n",
        "mask_root[mask_root>0]=5\n",
        "mask_VISp[mask_VISp>0]=2\n",
        "mask_VISp_root = mask_VISp + mask_root"
      ]
    },
    {
      "cell_type": "code",
      "execution_count": 22,
      "metadata": {
        "id": "3BH8ejYd94tp",
        "outputId": "4858682a-b857-49f9-a3a5-3b206ca2ae0c",
        "colab": {
          "base_uri": "https://localhost:8080/",
          "height": 241
        }
      },
      "outputs": [
        {
          "output_type": "display_data",
          "data": {
            "text/plain": [
              "<Figure size 864x216 with 3 Axes>"
            ],
            "image/png": "[encoded data removed]"
          },
          "metadata": {
            "needs_background": "light"
          }
        }
      ],
      "source": [
        "space = bg_atlas.space\n",
        "\n",
        "f, axs = plt.subplots(1,3, figsize=(12, 3))\n",
        "for i, (plane, labels) in enumerate(zip(space.sections, space.axis_labels)):\n",
        "    axs[i].imshow(mask_VISp_root.max(i), cmap=\"gray\")\n",
        "    axs[i].set_title(f\"{plane.capitalize()} view\")\n",
        "    axs[i].set_ylabel(labels[0])\n",
        "    axs[i].set_xlabel(labels[1])\n"
      ]
    },
    {
      "cell_type": "markdown",
      "metadata": {
        "id": "ZErai0kZ94tq"
      },
      "source": [
        "### 1.3 Regions meshes"
      ]
    },
    {
      "cell_type": "markdown",
      "metadata": {
        "id": "lXjErVIy94tq"
      },
      "source": [
        "If we need to access the structure meshes, we can either query for the file (e.g., if we need to load the file through some library like `vedo`):"
      ]
    },
    {
      "cell_type": "code",
      "execution_count": 23,
      "metadata": {
        "id": "fg3GQSxy94tq",
        "outputId": "75fbcfe9-8610-4d66-d577-f18c5b907ce0",
        "colab": {
          "base_uri": "https://localhost:8080/"
        }
      },
      "outputs": [
        {
          "output_type": "execute_result",
          "data": {
            "text/plain": [
              "PosixPath('/root/.brainglobe/allen_mouse_100um_v1.2/meshes/567.obj')"
            ]
          },
          "metadata": {},
          "execution_count": 23
        }
      ],
      "source": [
        "bg_atlas.meshfile_from_structure(\"CH\")"
      ]
    },
    {
      "cell_type": "markdown",
      "metadata": {
        "id": "R2eLCWhy94tq"
      },
      "source": [
        "Or directly obtain the mesh, as a mesh object of the `meshio` library:"
      ]
    },
    {
      "cell_type": "code",
      "execution_count": 24,
      "metadata": {
        "id": "6d3mAMeH94tq",
        "outputId": "74ded0bc-611d-4244-c6de-1a129786dfa4",
        "colab": {
          "base_uri": "https://localhost:8080/"
        }
      },
      "outputs": [
        {
          "output_type": "execute_result",
          "data": {
            "text/plain": [
              "<meshio mesh object>\n",
              "  Number of points: 56703\n",
              "  Number of cells:\n",
              "    triangle: 112948\n",
              "  Point data: obj:vn\n",
              "  Cell data: obj:group_ids"
            ]
          },
          "metadata": {},
          "execution_count": 24
        }
      ],
      "source": [
        "bg_atlas.mesh_from_structure(\"CH\")"
      ]
    },
    {
      "cell_type": "markdown",
      "metadata": {
        "id": "gKWzwGtE94tr"
      },
      "source": [
        "## 2 Query the `BrainGlobeAtlas`"
      ]
    },
    {
      "cell_type": "markdown",
      "metadata": {
        "id": "Jc-CLxIS94tr"
      },
      "source": [
        "### 2.0 Query for structures:"
      ]
    },
    {
      "cell_type": "markdown",
      "metadata": {
        "id": "bP3-Y0UV94tr"
      },
      "source": [
        "A very convenient feature of the `BrainGlobeAtlas` API is the simplicity of querying for the identity of the structure or the hemisphere at a given location, either from stack indexes or space coordinates, and even cutting the hierarchy at some higher level:"
      ]
    },
    {
      "cell_type": "code",
      "execution_count": 25,
      "metadata": {
        "id": "i8zU9R5E94tr",
        "outputId": "e75ff1c8-99c9-40a2-f6ef-4ddb6110d95a",
        "colab": {
          "base_uri": "https://localhost:8080/"
        }
      },
      "outputs": [
        {
          "output_type": "stream",
          "name": "stdout",
          "text": [
            "By index: CP\n",
            "By coordinates: CP\n",
            "Higher hierarchy level: CH\n"
          ]
        }
      ],
      "source": [
        "# Ask for identity of some indexes in the stack:\n",
        "print(\"By index:\", bg_atlas.structure_from_coords((50, 40, 30), \n",
        "                                                  as_acronym=True))\n",
        "\n",
        "# Now give coordinates in microns\n",
        "print(\"By coordinates:\", bg_atlas.structure_from_coords((5000, 4000, 3000), \n",
        "                                                        as_acronym=True, \n",
        "                                                        microns=True))\n",
        "\n",
        "# Now cut hierarchy at some level\n",
        "print(\"Higher hierarchy level:\", bg_atlas.structure_from_coords((5000, 4000, 3000), \n",
        "                                                                 as_acronym=True, \n",
        "                                                                 microns=True, \n",
        "                                                                 hierarchy_lev=2))"
      ]
    },
    {
      "cell_type": "markdown",
      "metadata": {
        "id": "Wp9hOd1T94tr"
      },
      "source": [
        "### 2.1 Query for hemispheres"
      ]
    },
    {
      "cell_type": "markdown",
      "metadata": {
        "id": "c1elbhZx94ts"
      },
      "source": [
        "A very similar method can be used for hemispheres. 0 correspond to outside the brain, a,d 1 and 2 to left and right hemispheres - but we can just ask for the side name instead of the number:"
      ]
    },
    {
      "cell_type": "code",
      "execution_count": 26,
      "metadata": {
        "id": "0L6MJd5K94ts",
        "outputId": "53cd673a-0af8-499e-cb5d-5f00b5e286ec",
        "colab": {
          "base_uri": "https://localhost:8080/"
        }
      },
      "outputs": [
        {
          "output_type": "stream",
          "name": "stdout",
          "text": [
            "By index: 2\n",
            "By coordinates: 2\n",
            "By : 2\n"
          ]
        }
      ],
      "source": [
        "# Ask for identity of some indexes in the stack:\n",
        "print(\"By index:\", bg_atlas.hemisphere_from_coords((50, 40, 30)))\n",
        "\n",
        "# Now give coordinates in microns\n",
        "print(\"By coordinates:\", bg_atlas.hemisphere_from_coords((5000, 4000, 3000), microns=True))\n",
        "\n",
        "# Now print side string\n",
        "print(\"By :\", bg_atlas.hemisphere_from_coords((5000, 4000, 3000), microns=True))"
      ]
    },
    {
      "cell_type": "code",
      "execution_count": null,
      "metadata": {
        "id": "mrjV3xnN94ts"
      },
      "outputs": [],
      "source": []
    }
  ],
  "metadata": {
    "kernelspec": {
      "display_name": "Python 3",
      "language": "python",
      "name": "python3"
    },
    "language_info": {
      "codemirror_mode": {
        "name": "ipython",
        "version": 3
      },
      "file_extension": ".py",
      "mimetype": "text/x-python",
      "name": "python",
      "nbconvert_exporter": "python",
      "pygments_lexer": "ipython3",
      "version": "3.8.10"
    },
    "colab": {
      "provenance": []
    },
    "widgets": {
      "application/vnd.jupyter.widget-state+json": {
        "5a69e957ac21401fa0388d9948798ab5": {
          "model_module": "@jupyter-widgets/output",
          "model_name": "OutputModel",
          "model_module_version": "1.0.0",
          "state": {
            "_dom_classes": [],
            "_model_module": "@jupyter-widgets/output",
            "_model_module_version": "1.0.0",
            "_model_name": "OutputModel",
            "_view_count": null,
            "_view_module": "@jupyter-widgets/output",
            "_view_module_version": "1.0.0",
            "_view_name": "OutputView",
            "layout": "IPY_MODEL_a92b2a9334d949d2aa7510ae7d83ee3f",
            "msg_id": "",
            "outputs": [
              {
                "output_type": "display_data",
                "data": {
                  "text/plain": "\u001b[1mDownloading...\u001b[0m \u001b[38;2;114;156;31m━━━━━━━━━━━━━━━━━━━━━━━━━━━━━━━━━━━━━━━\u001b[0m 0.0% • \u001b[32m63,658,809/0 bytes\u001b[0m • speed: \u001b[31m189.7 kB/s\u001b[0m • ETA: \u001b[36m0:00:00\u001b[0m\n",
                  "text/html": "<pre style=\"white-space:pre;overflow-x:auto;line-height:normal;font-family:Menlo,'DejaVu Sans Mono',consolas,'Courier New',monospace\"><span style=\"font-weight: bold\">Downloading...</span> <span style=\"color: #729c1f; text-decoration-color: #729c1f\">━━━━━━━━━━━━━━━━━━━━━━━━━━━━━━━━━━━━━━━</span> 0.0% • <span style=\"color: #008000; text-decoration-color: #008000\">63,658,809/0 bytes</span> • speed: <span style=\"color: #800000; text-decoration-color: #800000\">189.7 kB/s</span> • ETA: <span style=\"color: #008080; text-decoration-color: #008080\">0:00:00</span>\n</pre>\n"
                },
                "metadata": {}
              }
            ]
          }
        },
        "a92b2a9334d949d2aa7510ae7d83ee3f": {
          "model_module": "@jupyter-widgets/base",
          "model_name": "LayoutModel",
          "model_module_version": "1.2.0",
          "state": {
            "_model_module": "@jupyter-widgets/base",
            "_model_module_version": "1.2.0",
            "_model_name": "LayoutModel",
            "_view_count": null,
            "_view_module": "@jupyter-widgets/base",
            "_view_module_version": "1.2.0",
            "_view_name": "LayoutView",
            "align_content": null,
            "align_items": null,
            "align_self": null,
            "border": null,
            "bottom": null,
            "display": null,
            "flex": null,
            "flex_flow": null,
            "grid_area": null,
            "grid_auto_columns": null,
            "grid_auto_flow": null,
            "grid_auto_rows": null,
            "grid_column": null,
            "grid_gap": null,
            "grid_row": null,
            "grid_template_areas": null,
            "grid_template_columns": null,
            "grid_template_rows": null,
            "height": null,
            "justify_content": null,
            "justify_items": null,
            "left": null,
            "margin": null,
            "max_height": null,
            "max_width": null,
            "min_height": null,
            "min_width": null,
            "object_fit": null,
            "object_position": null,
            "order": null,
            "overflow": null,
            "overflow_x": null,
            "overflow_y": null,
            "padding": null,
            "right": null,
            "top": null,
            "visibility": null,
            "width": null
          }
        },
        "1d37718dcefe438eb379d940455f55f6": {
          "model_module": "@jupyter-widgets/controls",
          "model_name": "VBoxModel",
          "model_module_version": "1.5.0",
          "state": {
            "_dom_classes": [
              "widget-interact"
            ],
            "_model_module": "@jupyter-widgets/controls",
            "_model_module_version": "1.5.0",
            "_model_name": "VBoxModel",
            "_view_count": null,
            "_view_module": "@jupyter-widgets/controls",
            "_view_module_version": "1.5.0",
            "_view_name": "VBoxView",
            "box_style": "",
            "children": [
              "IPY_MODEL_b1f50d12dc2144458c02b4b977a960c4",
              "IPY_MODEL_bc2149c9fc7b466d858c5e637cc6efb3"
            ],
            "layout": "IPY_MODEL_e19666320adf4aa3a84c7e0f65f0b2d9"
          }
        },
        "b1f50d12dc2144458c02b4b977a960c4": {
          "model_module": "@jupyter-widgets/controls",
          "model_name": "IntSliderModel",
          "model_module_version": "1.5.0",
          "state": {
            "_dom_classes": [],
            "_model_module": "@jupyter-widgets/controls",
            "_model_module_version": "1.5.0",
            "_model_name": "IntSliderModel",
            "_view_count": null,
            "_view_module": "@jupyter-widgets/controls",
            "_view_module_version": "1.5.0",
            "_view_name": "IntSliderView",
            "continuous_update": true,
            "description": "layer",
            "description_tooltip": null,
            "disabled": false,
            "layout": "IPY_MODEL_45ca2273077a4d1e9e678d1ff57d1edb",
            "max": 113,
            "min": 0,
            "orientation": "horizontal",
            "readout": true,
            "readout_format": "d",
            "step": 1,
            "style": "IPY_MODEL_66a4b0b525674a5f8ebe7af2bf77d89a",
            "value": 32
          }
        },
        "bc2149c9fc7b466d858c5e637cc6efb3": {
          "model_module": "@jupyter-widgets/output",
          "model_name": "OutputModel",
          "model_module_version": "1.0.0",
          "state": {
            "_dom_classes": [],
            "_model_module": "@jupyter-widgets/output",
            "_model_module_version": "1.0.0",
            "_model_name": "OutputModel",
            "_view_count": null,
            "_view_module": "@jupyter-widgets/output",
            "_view_module_version": "1.0.0",
            "_view_name": "OutputView",
            "layout": "IPY_MODEL_a0df9f742f074142ae990bbd745c7da1",
            "msg_id": "",
            "outputs": [
              {
                "output_type": "display_data",
                "data": {
                  "text/plain": "<Figure size 720x360 with 1 Axes>",
                  "image/png": "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\n"
                },
                "metadata": {
                  "needs_background": "light"
                }
              },
              {
                "output_type": "display_data",
                "data": {
                  "text/plain": "32"
                },
                "metadata": {}
              }
            ]
          }
        },
        "e19666320adf4aa3a84c7e0f65f0b2d9": {
          "model_module": "@jupyter-widgets/base",
          "model_name": "LayoutModel",
          "model_module_version": "1.2.0",
          "state": {
            "_model_module": "@jupyter-widgets/base",
            "_model_module_version": "1.2.0",
            "_model_name": "LayoutModel",
            "_view_count": null,
            "_view_module": "@jupyter-widgets/base",
            "_view_module_version": "1.2.0",
            "_view_name": "LayoutView",
            "align_content": null,
            "align_items": null,
            "align_self": null,
            "border": null,
            "bottom": null,
            "display": null,
            "flex": null,
            "flex_flow": null,
            "grid_area": null,
            "grid_auto_columns": null,
            "grid_auto_flow": null,
            "grid_auto_rows": null,
            "grid_column": null,
            "grid_gap": null,
            "grid_row": null,
            "grid_template_areas": null,
            "grid_template_columns": null,
            "grid_template_rows": null,
            "height": null,
            "justify_content": null,
            "justify_items": null,
            "left": null,
            "margin": null,
            "max_height": null,
            "max_width": null,
            "min_height": null,
            "min_width": null,
            "object_fit": null,
            "object_position": null,
            "order": null,
            "overflow": null,
            "overflow_x": null,
            "overflow_y": null,
            "padding": null,
            "right": null,
            "top": null,
            "visibility": null,
            "width": null
          }
        },
        "45ca2273077a4d1e9e678d1ff57d1edb": {
          "model_module": "@jupyter-widgets/base",
          "model_name": "LayoutModel",
          "model_module_version": "1.2.0",
          "state": {
            "_model_module": "@jupyter-widgets/base",
            "_model_module_version": "1.2.0",
            "_model_name": "LayoutModel",
            "_view_count": null,
            "_view_module": "@jupyter-widgets/base",
            "_view_module_version": "1.2.0",
            "_view_name": "LayoutView",
            "align_content": null,
            "align_items": null,
            "align_self": null,
            "border": null,
            "bottom": null,
            "display": null,
            "flex": null,
            "flex_flow": null,
            "grid_area": null,
            "grid_auto_columns": null,
            "grid_auto_flow": null,
            "grid_auto_rows": null,
            "grid_column": null,
            "grid_gap": null,
            "grid_row": null,
            "grid_template_areas": null,
            "grid_template_columns": null,
            "grid_template_rows": null,
            "height": null,
            "justify_content": null,
            "justify_items": null,
            "left": null,
            "margin": null,
            "max_height": null,
            "max_width": null,
            "min_height": null,
            "min_width": null,
            "object_fit": null,
            "object_position": null,
            "order": null,
            "overflow": null,
            "overflow_x": null,
            "overflow_y": null,
            "padding": null,
            "right": null,
            "top": null,
            "visibility": null,
            "width": null
          }
        },
        "66a4b0b525674a5f8ebe7af2bf77d89a": {
          "model_module": "@jupyter-widgets/controls",
          "model_name": "SliderStyleModel",
          "model_module_version": "1.5.0",
          "state": {
            "_model_module": "@jupyter-widgets/controls",
            "_model_module_version": "1.5.0",
            "_model_name": "SliderStyleModel",
            "_view_count": null,
            "_view_module": "@jupyter-widgets/base",
            "_view_module_version": "1.2.0",
            "_view_name": "StyleView",
            "description_width": "",
            "handle_color": null
          }
        },
        "a0df9f742f074142ae990bbd745c7da1": {
          "model_module": "@jupyter-widgets/base",
          "model_name": "LayoutModel",
          "model_module_version": "1.2.0",
          "state": {
            "_model_module": "@jupyter-widgets/base",
            "_model_module_version": "1.2.0",
            "_model_name": "LayoutModel",
            "_view_count": null,
            "_view_module": "@jupyter-widgets/base",
            "_view_module_version": "1.2.0",
            "_view_name": "LayoutView",
            "align_content": null,
            "align_items": null,
            "align_self": null,
            "border": null,
            "bottom": null,
            "display": null,
            "flex": null,
            "flex_flow": null,
            "grid_area": null,
            "grid_auto_columns": null,
            "grid_auto_flow": null,
            "grid_auto_rows": null,
            "grid_column": null,
            "grid_gap": null,
            "grid_row": null,
            "grid_template_areas": null,
            "grid_template_columns": null,
            "grid_template_rows": null,
            "height": null,
            "justify_content": null,
            "justify_items": null,
            "left": null,
            "margin": null,
            "max_height": null,
            "max_width": null,
            "min_height": null,
            "min_width": null,
            "object_fit": null,
            "object_position": null,
            "order": null,
            "overflow": null,
            "overflow_x": null,
            "overflow_y": null,
            "padding": null,
            "right": null,
            "top": null,
            "visibility": null,
            "width": null
          }
        }
      }
    }
  },
  "nbformat": 4,
  "nbformat_minor": 0
}