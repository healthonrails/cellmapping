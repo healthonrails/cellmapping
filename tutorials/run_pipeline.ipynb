{
 "cells": [
  {
   "cell_type": "markdown",
   "id": "20f013ab-c513-4428-bc84-f66f838de035",
   "metadata": {},
   "source": [
    "# 3D Imaging analysis (registration, segmentation, cell counting)"
   ]
  },
  {
   "cell_type": "markdown",
   "id": "1cc0e68f-b2f2-4943-9774-eccf36f117f4",
   "metadata": {
    "jp-MarkdownHeadingCollapsed": true,
    "tags": []
   },
   "source": [
    "## Step 0: check the data with FIJI\n",
    "* Brain Image location: We assume that all the newly acquired brain images are location at workspace/Brain-Clearing/Brain_Images\n",
    "* Import images into FIJI by click File > Import > Bio-Formats > select the brain image file with .tif > Open\n",
    "Note: Please select Display metadata and Display OME-XML metadata options in the Bio-Formats Import Options > Open"
   ]
  },
  {
   "cell_type": "markdown",
   "id": "f08db498-086a-4d1b-b428-24897c7741e6",
   "metadata": {},
   "source": [
    "## Step 1: Preprocessing"
   ]
  },
  {
   "cell_type": "markdown",
   "id": "6b2c40b7-f67b-48ae-881f-74c691a6d011",
   "metadata": {},
   "source": [
    "### Step 1A: Destripe"
   ]
  },
  {
   "cell_type": "code",
   "execution_count": null,
   "id": "e54f9223-7cfb-42e9-ad72-451dd4dfd7ed",
   "metadata": {},
   "outputs": [],
   "source": [
    "pystripe -i ./D_BT_561_combined  -o ./D_BT_561_combined_destriped/ -s1 256 -s2 128 -w db2\n"
   ]
  },
  {
   "cell_type": "markdown",
   "id": "404014f8-768d-4fd0-8fda-bf5d5a83183d",
   "metadata": {},
   "source": [
    "### Step 1B: Stitching\n",
    "* This step is optional and it depends on the arrangements of the tiles"
   ]
  },
  {
   "cell_type": "markdown",
   "id": "c2e7ed51-a03f-461c-9238-64140fc12bb3",
   "metadata": {},
   "source": [
    "## Step 2: Registration and Cell Dection "
   ]
  },
  {
   "cell_type": "code",
   "execution_count": null,
   "id": "99041352-44dd-4385-bb93-ba2e35487e9d",
   "metadata": {},
   "outputs": [],
   "source": [
    "cellfinder -s D_BT_561_combined_destriped/ -b D_BT_488_combined_destriped/ -o ./D_BT_outputs -v 20 5 5 --orientation las"
   ]
  },
  {
   "cell_type": "markdown",
   "id": "10d0a999-4d9e-4cd2-9ca7-db0cab500161",
   "metadata": {},
   "source": [
    "## Step 3: Visualize and Display Results"
   ]
  },
  {
   "cell_type": "code",
   "execution_count": null,
   "id": "312861aa-824a-4855-97e6-1d0af38da379",
   "metadata": {},
   "outputs": [],
   "source": [
    "napari"
   ]
  }
 ],
 "metadata": {
  "kernelspec": {
   "display_name": "Python 3",
   "language": "python",
   "name": "python3"
  },
  "language_info": {
   "codemirror_mode": {
    "name": "ipython",
    "version": 3
   },
   "file_extension": ".py",
   "mimetype": "text/x-python",
   "name": "python",
   "nbconvert_exporter": "python",
   "pygments_lexer": "ipython3",
   "version": "3.8.13"
  }
 },
 "nbformat": 4,
 "nbformat_minor": 5
}
