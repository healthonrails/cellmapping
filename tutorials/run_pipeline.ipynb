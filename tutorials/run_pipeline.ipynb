{
 "cells": [
  {
   "cell_type": "markdown",
   "id": "20f013ab-c513-4428-bc84-f66f838de035",
   "metadata": {},
   "source": [
    "# 3D Imaging analysis (registration, segmentation, cell counting)"
   ]
  },
  {
   "cell_type": "markdown",
   "id": "1cc0e68f-b2f2-4943-9774-eccf36f117f4",
   "metadata": {
    "jp-MarkdownHeadingCollapsed": true,
    "tags": []
   },
   "source": [
    "## Step 0: check the data with FIJI\n",
    "* Brain Image location: We assume that all the newly acquired brain images are location at workspace/Brain-Clearing/Brain_Images\n",
    "* Import images into FIJI by click File > Import > Bio-Formats > select the brain image file with .tif > Open\n",
    "Note: Please select Display metadata and Display OME-XML metadata options in the Bio-Formats Import Options > Open"
   ]
  },
  {
   "cell_type": "markdown",
   "id": "f08db498-086a-4d1b-b428-24897c7741e6",
   "metadata": {},
   "source": [
    "## Step 1: Preprocessing"
   ]
  },
  {
   "cell_type": "markdown",
   "id": "6b2c40b7-f67b-48ae-881f-74c691a6d011",
   "metadata": {},
   "source": [
    "### Step 1A: Destripe"
   ]
  },
  {
   "cell_type": "code",
   "execution_count": null,
   "id": "e54f9223-7cfb-42e9-ad72-451dd4dfd7ed",
   "metadata": {},
   "outputs": [],
   "source": [
    "pystripe -i ./D_BT_561_combined  -o ./D_BT_561_combined_destriped/ -s1 256 -s2 128 -w db2\n"
   ]
  },
  {
   "cell_type": "code",
   "execution_count": null,
   "id": "b7049a85-d963-481c-9b73-4cd9800e3951",
   "metadata": {},
   "outputs": [],
   "source": [
    "# e.g. change sigma1 and wavelet to db5 removed most of the \n",
    "# stripes\n",
    "pystripe -i  561_destriped -o 561 --sigma1 1200 --wavelet db5"
   ]
  },
  {
   "cell_type": "markdown",
   "id": "404014f8-768d-4fd0-8fda-bf5d5a83183d",
   "metadata": {},
   "source": [
    "### Step 1B: Stitching\n",
    "* This step is optional and it depends on the arrangements of the tiles"
   ]
  },
  {
   "cell_type": "code",
   "execution_count": null,
   "id": "85bd4300-fea9-4dd2-8df7-1b0eae6d2c7f",
   "metadata": {},
   "outputs": [],
   "source": [
    "#https://docs.brainglobe.info/cellfinder/image-orientation"
   ]
  },
  {
   "cell_type": "code",
   "execution_count": null,
   "id": "6b52b78a-0ca2-4415-8666-14f1a3df8796",
   "metadata": {},
   "outputs": [],
   "source": [
    "#Orientation\n",
    "#You must specify the orientation of your data by using the --orientation flag. What follows must be a string in the bg-space \"initials\" form, to describe the origin voxel.\n",
    "#When you work with a stack, the origin is the upper left corner when you show the first element stack[0, :, :] with matplotlib or when you open the stack with ImageJ. First dimension is the one that you are slicing, the second the height of the image, and the third the width of the image.\n",
    "#If the origin of your data (first, top left voxel) is the most anterior, superior, left part of the brain, then the orientation string would be \"asl\" (anterior, superior, left), and you would use: \n",
    "#--orientation asl\n",
    "#The order of the three initials must be the same as the axis order (sliced plane, height, width)."
   ]
  },
  {
   "cell_type": "markdown",
   "id": "c2e7ed51-a03f-461c-9238-64140fc12bb3",
   "metadata": {},
   "source": [
    "## Step 2: Registration and Cell Dection "
   ]
  },
  {
   "cell_type": "code",
   "execution_count": null,
   "id": "9472c899-7e4c-42ac-8e89-27027cc380fd",
   "metadata": {},
   "outputs": [],
   "source": [
    "#use brainreg to register hemisphere_r or hemisphere_l"
   ]
  },
  {
   "cell_type": "code",
   "execution_count": null,
   "id": "4484639f-9e0d-479b-b43b-b092080c4081",
   "metadata": {},
   "outputs": [],
   "source": [
    "brainreg  488 MGN_31F_R_outputs -v 20 5 5 --orientation rsa --brain_geometry hemisphere_r"
   ]
  },
  {
   "cell_type": "code",
   "execution_count": null,
   "id": "99041352-44dd-4385-bb93-ba2e35487e9d",
   "metadata": {},
   "outputs": [],
   "source": [
    "cellfinder -s D_BT_561_combined_destriped/ -b D_BT_488_combined_destriped/ -o ./D_BT_outputs -v 20 5 5 --orientation las"
   ]
  },
  {
   "cell_type": "markdown",
   "id": "10d0a999-4d9e-4cd2-9ca7-db0cab500161",
   "metadata": {},
   "source": [
    "## Step 3: Visualize and Display Results"
   ]
  },
  {
   "cell_type": "code",
   "execution_count": null,
   "id": "2431d9d4-ab6a-4f89-9f92-5097111f37e0",
   "metadata": {},
   "outputs": [],
   "source": [
    "# Drag the cellfinder outuputs folder to napari"
   ]
  },
  {
   "cell_type": "code",
   "execution_count": null,
   "id": "312861aa-824a-4855-97e6-1d0af38da379",
   "metadata": {},
   "outputs": [],
   "source": [
    "napari"
   ]
  }
 ],
 "metadata": {
  "kernelspec": {
   "display_name": "Python 3",
   "language": "python",
   "name": "python3"
  },
  "language_info": {
   "codemirror_mode": {
    "name": "ipython",
    "version": 3
   },
   "file_extension": ".py",
   "mimetype": "text/x-python",
   "name": "python",
   "nbconvert_exporter": "python",
   "pygments_lexer": "ipython3",
   "version": "3.8.13"
  }
 },
 "nbformat": 4,
 "nbformat_minor": 5
}
