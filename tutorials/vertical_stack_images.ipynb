{
 "cells": [
  {
   "cell_type": "code",
   "execution_count": null,
   "id": "1e212592-d5e5-4cc7-a215-0e7f63f12161",
   "metadata": {},
   "outputs": [],
   "source": [
    "import tiffile\n",
    "from pathlib import Path\n",
    "import glob\n",
    "import numpy as np\n",
    "from cellmapping.stitching import vertical_stack_images\n",
    "from matplotlib import pyplot as plt"
   ]
  },
  {
   "cell_type": "code",
   "execution_count": null,
   "id": "2d41de15-c258-44a1-8af4-0967516d3b45",
   "metadata": {},
   "outputs": [],
   "source": [
    "IMAGE_DIR = Path(\"/path_to_brain_images/\")\n",
    "TOP_Y_END = 2157\n",
    "BOTTOM_Y_START = 819"
   ]
  },
  {
   "cell_type": "code",
   "execution_count": null,
   "id": "5661a0fa-851d-40a8-8fc5-321980fea68a",
   "metadata": {},
   "outputs": [],
   "source": [
    "rc1_file = glob.glob(str(IMAGE_DIR/\"*AP1*.tif\"))[0]\n",
    "rc2_file = glob.glob(str(IMAGE_DIR/\"*AP2*.tif\"))[0]"
   ]
  },
  {
   "cell_type": "code",
   "execution_count": null,
   "id": "859d9f44-6915-4dcf-9f53-9c688c6425c6",
   "metadata": {},
   "outputs": [],
   "source": [
    "stitched_folder = rc1_file.split('_AP')[0] + '_stitched'"
   ]
  },
  {
   "cell_type": "code",
   "execution_count": null,
   "id": "479766a1-9c58-4ec4-addc-adc9cbb6634b",
   "metadata": {},
   "outputs": [],
   "source": [
    "stitched_folder"
   ]
  },
  {
   "cell_type": "code",
   "execution_count": null,
   "id": "ec72a22e-abf1-47bc-86d2-df497e6ffcbe",
   "metadata": {},
   "outputs": [],
   "source": [
    "import os\n",
    "if not os.path.exists(stitched_folder):\n",
    "    os.makedirs(stitched_folder)"
   ]
  },
  {
   "cell_type": "code",
   "execution_count": null,
   "id": "a8f50222-5d24-49e3-a0b1-ddd1964c6fef",
   "metadata": {},
   "outputs": [],
   "source": [
    "rc1 = tiffile.imread(rc1_file)"
   ]
  },
  {
   "cell_type": "code",
   "execution_count": null,
   "id": "01cc7839-9e20-4a6e-b876-2832da168250",
   "metadata": {},
   "outputs": [],
   "source": [
    "rc1.shape"
   ]
  },
  {
   "cell_type": "code",
   "execution_count": null,
   "id": "6c1d0521-7425-443f-a593-a8db8cbe1118",
   "metadata": {},
   "outputs": [],
   "source": [
    "plt.figure(figsize=(24,12))"
   ]
  },
  {
   "cell_type": "code",
   "execution_count": null,
   "id": "6860340f-780c-4232-b057-18be07e65d94",
   "metadata": {},
   "outputs": [],
   "source": [
    "plt.imshow(rc1[890,:,:],cmap='gray')"
   ]
  },
  {
   "cell_type": "code",
   "execution_count": null,
   "id": "98d336ac-dd19-427b-8193-d30345c8254e",
   "metadata": {},
   "outputs": [],
   "source": [
    "rc2 = tiffile.imread(rc2_file)"
   ]
  },
  {
   "cell_type": "code",
   "execution_count": null,
   "id": "7ff57cdf-6ede-46cb-adcb-75e790984781",
   "metadata": {},
   "outputs": [],
   "source": [
    "plt.imshow(rc2[890,:,:],cmap='gray')"
   ]
  },
  {
   "cell_type": "code",
   "execution_count": null,
   "id": "bdb2b6ae-881d-48c3-b2b5-23759cb5f771",
   "metadata": {},
   "outputs": [],
   "source": [
    "y_offset=600\n",
    "for z in range(rc1.shape[0]):\n",
    "    image1 = rc1[z,:,:]\n",
    "    image2 = rc2[z,:,:]\n",
    "    stacked_image = np.vstack((image1[:-y_offset,:],image2[y_offset:,:]))\n",
    "    stacked_image = stacked_image.astype(rc2.dtype)\n",
    "    output_file = os.path.join(stitched_folder, f\"{z:05}.tif\")\n",
    "    tiffile.imwrite(output_file,stacked_image)\n",
    "    "
   ]
  },
  {
   "cell_type": "code",
   "execution_count": null,
   "id": "3422f263-2ef2-4f9f-81e6-6ff3cbde031e",
   "metadata": {},
   "outputs": [],
   "source": [
    "os.listdir(stitched_folder)"
   ]
  },
  {
   "cell_type": "code",
   "execution_count": null,
   "id": "9ce7c343-baa3-4b94-befc-776a52417989",
   "metadata": {},
   "outputs": [],
   "source": [
    "from scipy.signal import correlate2d"
   ]
  },
  {
   "cell_type": "code",
   "execution_count": null,
   "id": "1af96a48-26e6-4564-b99c-f59a3195ef54",
   "metadata": {},
   "outputs": [],
   "source": [
    "image1 = rc1[690,:,:]\n",
    "image2 = rc2[690,:,:]"
   ]
  },
  {
   "cell_type": "code",
   "execution_count": null,
   "id": "bc828ace-a703-47cc-8d3e-305282b8fca6",
   "metadata": {},
   "outputs": [],
   "source": [
    "y_offset=600\n",
    "stacked_image = np.vstack((image1[:-y_offset,:],image2[y_offset:,:]))"
   ]
  },
  {
   "cell_type": "code",
   "execution_count": null,
   "id": "bfdb17c4-bac3-446c-87e1-3d2080d6bcdc",
   "metadata": {},
   "outputs": [],
   "source": [
    "stacked_image = np.vstack((image1[:-y_offset,:],image2[y_offset:,:]))"
   ]
  },
  {
   "cell_type": "code",
   "execution_count": null,
   "id": "523678d4-8634-424f-8f76-d575bfef6ff1",
   "metadata": {},
   "outputs": [],
   "source": [
    "plt.figure(figsize=(24,12))\n",
    "plt.imshow(stacked_image,cmap='gray')"
   ]
  },
  {
   "cell_type": "code",
   "execution_count": null,
   "id": "1a32ff5f-5f2d-4b0a-9661-f6a49df87bd8",
   "metadata": {},
   "outputs": [],
   "source": [
    "def mse_quality(img1_values,img2_values):\n",
    "    return np.mean(img1_values - img2_values) ** 2"
   ]
  },
  {
   "cell_type": "code",
   "execution_count": null,
   "id": "0e4a305a-879e-4ee6-a03e-479d6955c5a9",
   "metadata": {},
   "outputs": [],
   "source": [
    "img1_values = image1[-10+(-y_offset):-y_offset,:]\n",
    "img2_values = image2[y_offset:y_offset+10,:]"
   ]
  },
  {
   "cell_type": "code",
   "execution_count": null,
   "id": "fdd4e0e0-3bfe-489b-b3b3-04f2a0022d23",
   "metadata": {},
   "outputs": [],
   "source": [
    "print(mse_quality(img1_values,img2_values))"
   ]
  },
  {
   "cell_type": "code",
   "execution_count": null,
   "id": "27036482-10d3-4a53-90f0-1b02fe9c899a",
   "metadata": {},
   "outputs": [],
   "source": [
    "min_y = 0\n",
    "max_y = image1.shape[0]\n",
    "optimal_y = -1"
   ]
  },
  {
   "cell_type": "code",
   "execution_count": null,
   "id": "891675a3-a14f-4502-8b32-dcc7a14cc4c1",
   "metadata": {},
   "outputs": [],
   "source": [
    "min_quality = float('inf')"
   ]
  },
  {
   "cell_type": "code",
   "execution_count": null,
   "id": "b38ea083-d4fe-4490-9f87-ff0d62187969",
   "metadata": {},
   "outputs": [],
   "source": [
    "for y_offset in range(400,1000):\n",
    "    img1_values = image1[-y_offset+1,:]\n",
    "    img2_values = image2[y_offset,:]\n",
    "    quality = np.sum(img1_values*img2_values)\n",
    "    if quality <= min_quality:\n",
    "        optimal_y = y_offset\n",
    "        min_quality = quality\n"
   ]
  },
  {
   "cell_type": "code",
   "execution_count": null,
   "id": "9b8d36a0-0b43-4394-bbfd-c2e7b1db84a9",
   "metadata": {},
   "outputs": [],
   "source": [
    "print(optimal_y, min_quality)"
   ]
  },
  {
   "cell_type": "code",
   "execution_count": null,
   "id": "2fcb8dd9-6300-48c4-b9ab-df041e0a1774",
   "metadata": {},
   "outputs": [],
   "source": [
    "image1[-y_offset+1,:],image2[y_offset,:]"
   ]
  },
  {
   "cell_type": "code",
   "execution_count": null,
   "id": "64666bb0-369d-44fe-a75c-7d778da85fad",
   "metadata": {},
   "outputs": [],
   "source": [
    "correlation = correlate2d(img1_values,img2_values,mode='same')"
   ]
  },
  {
   "cell_type": "code",
   "execution_count": null,
   "id": "d3975996-a380-4c54-a5a3-a25b4f371aa0",
   "metadata": {},
   "outputs": [],
   "source": [
    "correlation"
   ]
  },
  {
   "cell_type": "code",
   "execution_count": null,
   "id": "8dcf4f9d-49c3-4afb-b56c-1ded0edf2f96",
   "metadata": {},
   "outputs": [],
   "source": [
    "y_offset = np.argmax(correlation) - correlation.shape[1] // 2"
   ]
  },
  {
   "cell_type": "code",
   "execution_count": null,
   "id": "982d1123-2a7c-48f4-aa1f-f8b4b6d00dd1",
   "metadata": {},
   "outputs": [],
   "source": [
    "y_offset"
   ]
  },
  {
   "cell_type": "code",
   "execution_count": null,
   "id": "37269eed-8237-4030-8783-60dc44df55f8",
   "metadata": {},
   "outputs": [],
   "source": [
    "if y_offset >= 0:\n",
    "    stacked_image = np.vstack((image1[:-y_offset,:],image2[y_offset:,:]))\n",
    "else:\n",
    "    stacked_image = np.vstack((image1[:y_offset,:],image2[-y_offset:,:]))"
   ]
  },
  {
   "cell_type": "code",
   "execution_count": null,
   "id": "cabc6382-38d7-465e-88b1-9927dc47e815",
   "metadata": {},
   "outputs": [],
   "source": [
    "img_combined_890 = vertical_stack_images(rc1[890,:,:],rc2[890,:,:],TOP_Y_END,BOTTOM_Y_START)"
   ]
  },
  {
   "cell_type": "code",
   "execution_count": null,
   "id": "20e33f0c-6f09-4c65-b344-51d2a5da02c3",
   "metadata": {},
   "outputs": [],
   "source": [
    "img_combined = vertical_stack_images(rc1,rc2,TOP_Y_END,BOTTOM_Y_START)"
   ]
  },
  {
   "cell_type": "code",
   "execution_count": null,
   "id": "72fe8a47-9768-4f54-9bc2-f9f299e95bea",
   "metadata": {},
   "outputs": [],
   "source": [
    "img_combined = img_combined.astype(rc2.dtype)\n",
    "output_file = rc2_file.replace('_RC2','')\n",
    "tiffile.imwrite(output_file,img_combined)"
   ]
  },
  {
   "cell_type": "code",
   "execution_count": null,
   "id": "df43bd63-b667-4e8d-ace0-9a1eaa6984b4",
   "metadata": {},
   "outputs": [],
   "source": [
    "tiffile.imwrite(output_file,img_combined)"
   ]
  },
  {
   "cell_type": "code",
   "execution_count": null,
   "id": "4d4589d4-cb3e-481a-92ae-ced22badb4a1",
   "metadata": {},
   "outputs": [],
   "source": []
  }
 ],
 "metadata": {
  "kernelspec": {
   "display_name": "Python 3",
   "language": "python",
   "name": "python3"
  },
  "language_info": {
   "codemirror_mode": {
    "name": "ipython",
    "version": 3
   },
   "file_extension": ".py",
   "mimetype": "text/x-python",
   "name": "python",
   "nbconvert_exporter": "python",
   "pygments_lexer": "ipython3",
   "version": "3.8.13"
  }
 },
 "nbformat": 4,
 "nbformat_minor": 5
}
