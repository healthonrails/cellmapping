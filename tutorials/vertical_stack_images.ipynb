{
 "cells": [
  {
   "cell_type": "code",
   "execution_count": null,
   "id": "1e212592-d5e5-4cc7-a215-0e7f63f12161",
   "metadata": {},
   "outputs": [],
   "source": [
    "import tiffile\n",
    "from pathlib import Path\n",
    "import glob\n",
    "from cellmapping.stitching import vertical_stack_images"
   ]
  },
  {
   "cell_type": "code",
   "execution_count": null,
   "id": "2d41de15-c258-44a1-8af4-0967516d3b45",
   "metadata": {},
   "outputs": [],
   "source": [
    "IMAGE_DIR = Path(\"/path/to/561\")\n",
    "TOP_Y_END = 2157\n",
    "BOTTOM_Y_START = 819"
   ]
  },
  {
   "cell_type": "code",
   "execution_count": null,
   "id": "5661a0fa-851d-40a8-8fc5-321980fea68a",
   "metadata": {},
   "outputs": [],
   "source": [
    "rc1_file = glob.glob(str(IMAGE_DIR/\"*RC1*.tif\"))[0]\n",
    "rc2_file = glob.glob(str(IMAGE_DIR/\"*RC2*.tif\"))[0]"
   ]
  },
  {
   "cell_type": "code",
   "execution_count": null,
   "id": "a8f50222-5d24-49e3-a0b1-ddd1964c6fef",
   "metadata": {},
   "outputs": [],
   "source": [
    "rc1 = tiffile.imread(rc1_file)"
   ]
  },
  {
   "cell_type": "code",
   "execution_count": null,
   "id": "98d336ac-dd19-427b-8193-d30345c8254e",
   "metadata": {},
   "outputs": [],
   "source": [
    "rc2 = tiffile.imread(rc2_file)"
   ]
  },
  {
   "cell_type": "code",
   "execution_count": null,
   "id": "20e33f0c-6f09-4c65-b344-51d2a5da02c3",
   "metadata": {},
   "outputs": [],
   "source": [
    "img_combined = vertical_stack_images(rc1,rc2,TOP_Y_END,BOTTOM_Y_START)"
   ]
  },
  {
   "cell_type": "code",
   "execution_count": null,
   "id": "72fe8a47-9768-4f54-9bc2-f9f299e95bea",
   "metadata": {},
   "outputs": [],
   "source": [
    "img_combined = img_combined.astype(rc2.dtype)\n",
    "output_file = rc2_file.replace('_RC2','')"
   ]
  },
  {
   "cell_type": "code",
   "execution_count": null,
   "id": "df43bd63-b667-4e8d-ace0-9a1eaa6984b4",
   "metadata": {},
   "outputs": [],
   "source": [
    "tiffile.imwrite(output_file,img_combined)"
   ]
  },
  {
   "cell_type": "code",
   "execution_count": null,
   "id": "4d4589d4-cb3e-481a-92ae-ced22badb4a1",
   "metadata": {},
   "outputs": [],
   "source": []
  }
 ],
 "metadata": {
  "kernelspec": {
   "display_name": "Python 3",
   "language": "python",
   "name": "python3"
  },
  "language_info": {
   "codemirror_mode": {
    "name": "ipython",
    "version": 3
   },
   "file_extension": ".py",
   "mimetype": "text/x-python",
   "name": "python",
   "nbconvert_exporter": "python",
   "pygments_lexer": "ipython3",
   "version": "3.8.13"
  }
 },
 "nbformat": 4,
 "nbformat_minor": 5
}
